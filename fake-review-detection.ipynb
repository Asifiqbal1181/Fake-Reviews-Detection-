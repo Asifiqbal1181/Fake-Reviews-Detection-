{
 "cells": [
  {
   "cell_type": "markdown",
   "metadata": {
    "execution": {
     "iopub.execute_input": "2022-04-01T16:49:32.95603Z",
     "iopub.status.busy": "2022-04-01T16:49:32.955663Z",
     "iopub.status.idle": "2022-04-01T16:50:00.25148Z",
     "shell.execute_reply": "2022-04-01T16:50:00.250352Z",
     "shell.execute_reply.started": "2022-04-01T16:49:32.956Z"
    }
   },
   "source": [
    "## Ensembled Learning Algorithms (FAKE REVIEWS DETECTION)"
   ]
  },
  {
   "cell_type": "code",
   "execution_count": 1,
   "metadata": {},
   "outputs": [],
   "source": [
    "from sklearn.metrics import RocCurveDisplay\n"
   ]
  },
  {
   "cell_type": "code",
   "execution_count": 2,
   "metadata": {
    "_cell_guid": "b1076dfc-b9ad-4769-8c92-a6c4dae69d19",
    "_uuid": "8f2839f25d086af736a60e9eeb907d3b93b6e0e5",
    "execution": {
     "iopub.execute_input": "2022-04-01T16:50:00.25428Z",
     "iopub.status.busy": "2022-04-01T16:50:00.253985Z",
     "iopub.status.idle": "2022-04-01T16:50:00.261071Z",
     "shell.execute_reply": "2022-04-01T16:50:00.25991Z",
     "shell.execute_reply.started": "2022-04-01T16:50:00.25425Z"
    }
   },
   "outputs": [
    {
     "data": {
      "text/plain": [
       "['fake-review-detection.ipynb', 'finalReview3.csv']"
      ]
     },
     "execution_count": 2,
     "metadata": {},
     "output_type": "execute_result"
    }
   ],
   "source": [
    "import numpy as np # linear algebra\n",
    "import pandas as pd # data processing, CSV file I/O (e.g. pd.read_csv)\n",
    "\n",
    "import os\n",
    "os.listdir()"
   ]
  },
  {
   "cell_type": "code",
   "execution_count": 3,
   "metadata": {
    "execution": {
     "iopub.execute_input": "2022-04-01T16:50:00.262835Z",
     "iopub.status.busy": "2022-04-01T16:50:00.262439Z",
     "iopub.status.idle": "2022-04-01T16:50:01.133837Z",
     "shell.execute_reply": "2022-04-01T16:50:01.132284Z",
     "shell.execute_reply.started": "2022-04-01T16:50:00.262794Z"
    }
   },
   "outputs": [
    {
     "name": "stdout",
     "output_type": "stream",
     "text": [
      "0.24.2\n"
     ]
    }
   ],
   "source": [
    "import sklearn\n",
    "print(sklearn.__version__)"
   ]
  },
  {
   "cell_type": "code",
   "execution_count": 4,
   "metadata": {
    "_cell_guid": "79c7e3d0-c299-4dcb-8224-4455121ee9b0",
    "_uuid": "d629ff2d2480ee46fbb7e2d37f6b5fab8052498a",
    "execution": {
     "iopub.execute_input": "2022-04-01T16:50:01.135143Z",
     "iopub.status.busy": "2022-04-01T16:50:01.134897Z",
     "iopub.status.idle": "2022-04-01T16:50:01.294778Z",
     "shell.execute_reply": "2022-04-01T16:50:01.293828Z",
     "shell.execute_reply.started": "2022-04-01T16:50:01.135119Z"
    }
   },
   "outputs": [],
   "source": [
    "#Scraper Imports\n",
    "import requests\n",
    "from bs4 import BeautifulSoup\n",
    "import re, sys"
   ]
  },
  {
   "cell_type": "code",
   "execution_count": 5,
   "metadata": {
    "execution": {
     "iopub.execute_input": "2022-04-01T16:50:38.035559Z",
     "iopub.status.busy": "2022-04-01T16:50:38.035225Z",
     "iopub.status.idle": "2022-04-01T16:50:47.986999Z",
     "shell.execute_reply": "2022-04-01T16:50:47.985999Z",
     "shell.execute_reply.started": "2022-04-01T16:50:38.035532Z"
    }
   },
   "outputs": [],
   "source": [
    "# ALl text-preprocessing Libraries (Import) \n",
    "from datetime import datetime, timedelta\n",
    "from dateutil.relativedelta import relativedelta\n",
    "import matplotlib.pyplot as plt\n",
    "# !pip install contractions\n",
    "import contractions # Removing contractions You're etc."
   ]
  },
  {
   "cell_type": "code",
   "execution_count": 6,
   "metadata": {},
   "outputs": [],
   "source": [
    "# !pip install textblob"
   ]
  },
  {
   "cell_type": "code",
   "execution_count": 7,
   "metadata": {
    "execution": {
     "iopub.execute_input": "2022-04-01T16:51:00.893631Z",
     "iopub.status.busy": "2022-04-01T16:51:00.893088Z",
     "iopub.status.idle": "2022-04-01T16:51:10.56659Z",
     "shell.execute_reply": "2022-04-01T16:51:10.565755Z",
     "shell.execute_reply.started": "2022-04-01T16:51:00.893583Z"
    }
   },
   "outputs": [
    {
     "name": "stderr",
     "output_type": "stream",
     "text": [
      "[nltk_data] Downloading collection 'popular'\n",
      "[nltk_data]    | \n",
      "[nltk_data]    | Downloading package cmudict to C:\\Users\\Asif\n",
      "[nltk_data]    |     Iqbal\\AppData\\Roaming\\nltk_data...\n",
      "[nltk_data]    |   Package cmudict is already up-to-date!\n",
      "[nltk_data]    | Downloading package gazetteers to C:\\Users\\Asif\n",
      "[nltk_data]    |     Iqbal\\AppData\\Roaming\\nltk_data...\n",
      "[nltk_data]    |   Package gazetteers is already up-to-date!\n",
      "[nltk_data]    | Downloading package genesis to C:\\Users\\Asif\n",
      "[nltk_data]    |     Iqbal\\AppData\\Roaming\\nltk_data...\n",
      "[nltk_data]    |   Package genesis is already up-to-date!\n",
      "[nltk_data]    | Downloading package gutenberg to C:\\Users\\Asif\n",
      "[nltk_data]    |     Iqbal\\AppData\\Roaming\\nltk_data...\n",
      "[nltk_data]    |   Package gutenberg is already up-to-date!\n",
      "[nltk_data]    | Downloading package inaugural to C:\\Users\\Asif\n",
      "[nltk_data]    |     Iqbal\\AppData\\Roaming\\nltk_data...\n",
      "[nltk_data]    |   Package inaugural is already up-to-date!\n",
      "[nltk_data]    | Downloading package movie_reviews to C:\\Users\\Asif\n",
      "[nltk_data]    |     Iqbal\\AppData\\Roaming\\nltk_data...\n",
      "[nltk_data]    |   Package movie_reviews is already up-to-date!\n",
      "[nltk_data]    | Downloading package names to C:\\Users\\Asif\n",
      "[nltk_data]    |     Iqbal\\AppData\\Roaming\\nltk_data...\n",
      "[nltk_data]    |   Package names is already up-to-date!\n",
      "[nltk_data]    | Downloading package shakespeare to C:\\Users\\Asif\n",
      "[nltk_data]    |     Iqbal\\AppData\\Roaming\\nltk_data...\n",
      "[nltk_data]    |   Package shakespeare is already up-to-date!\n",
      "[nltk_data]    | Downloading package stopwords to C:\\Users\\Asif\n",
      "[nltk_data]    |     Iqbal\\AppData\\Roaming\\nltk_data...\n",
      "[nltk_data]    |   Package stopwords is already up-to-date!\n",
      "[nltk_data]    | Downloading package treebank to C:\\Users\\Asif\n",
      "[nltk_data]    |     Iqbal\\AppData\\Roaming\\nltk_data...\n",
      "[nltk_data]    |   Package treebank is already up-to-date!\n",
      "[nltk_data]    | Downloading package twitter_samples to C:\\Users\\Asif\n",
      "[nltk_data]    |     Iqbal\\AppData\\Roaming\\nltk_data...\n",
      "[nltk_data]    |   Package twitter_samples is already up-to-date!\n",
      "[nltk_data]    | Downloading package omw to C:\\Users\\Asif\n",
      "[nltk_data]    |     Iqbal\\AppData\\Roaming\\nltk_data...\n",
      "[nltk_data]    |   Package omw is already up-to-date!\n",
      "[nltk_data]    | Downloading package omw-1.4 to C:\\Users\\Asif\n",
      "[nltk_data]    |     Iqbal\\AppData\\Roaming\\nltk_data...\n",
      "[nltk_data]    |   Package omw-1.4 is already up-to-date!\n",
      "[nltk_data]    | Downloading package wordnet to C:\\Users\\Asif\n",
      "[nltk_data]    |     Iqbal\\AppData\\Roaming\\nltk_data...\n",
      "[nltk_data]    |   Package wordnet is already up-to-date!\n",
      "[nltk_data]    | Downloading package wordnet2021 to C:\\Users\\Asif\n",
      "[nltk_data]    |     Iqbal\\AppData\\Roaming\\nltk_data...\n",
      "[nltk_data]    |   Package wordnet2021 is already up-to-date!\n",
      "[nltk_data]    | Downloading package wordnet31 to C:\\Users\\Asif\n",
      "[nltk_data]    |     Iqbal\\AppData\\Roaming\\nltk_data...\n",
      "[nltk_data]    |   Package wordnet31 is already up-to-date!\n",
      "[nltk_data]    | Downloading package wordnet_ic to C:\\Users\\Asif\n",
      "[nltk_data]    |     Iqbal\\AppData\\Roaming\\nltk_data...\n",
      "[nltk_data]    |   Package wordnet_ic is already up-to-date!\n",
      "[nltk_data]    | Downloading package words to C:\\Users\\Asif\n",
      "[nltk_data]    |     Iqbal\\AppData\\Roaming\\nltk_data...\n",
      "[nltk_data]    |   Package words is already up-to-date!\n",
      "[nltk_data]    | Downloading package maxent_ne_chunker to\n",
      "[nltk_data]    |     C:\\Users\\Asif Iqbal\\AppData\\Roaming\\nltk_data...\n",
      "[nltk_data]    |   Package maxent_ne_chunker is already up-to-date!\n",
      "[nltk_data]    | Downloading package punkt to C:\\Users\\Asif\n",
      "[nltk_data]    |     Iqbal\\AppData\\Roaming\\nltk_data...\n",
      "[nltk_data]    |   Package punkt is already up-to-date!\n",
      "[nltk_data]    | Downloading package snowball_data to C:\\Users\\Asif\n",
      "[nltk_data]    |     Iqbal\\AppData\\Roaming\\nltk_data...\n",
      "[nltk_data]    |   Package snowball_data is already up-to-date!\n",
      "[nltk_data]    | Downloading package averaged_perceptron_tagger to\n",
      "[nltk_data]    |     C:\\Users\\Asif Iqbal\\AppData\\Roaming\\nltk_data...\n",
      "[nltk_data]    |   Package averaged_perceptron_tagger is already up-\n",
      "[nltk_data]    |       to-date!\n",
      "[nltk_data]    | \n",
      "[nltk_data]  Done downloading collection popular\n"
     ]
    }
   ],
   "source": [
    "# Extracting Features i.e. (sentiments etc.)\n",
    "# Text Blob Library for textual data processing such as POS Tagging, phrase \n",
    "# extractions etc.\n",
    "from textblob import TextBlob\n",
    "import nltk\n",
    "nltk.download(\"popular\")\n",
    "from nltk import FreqDist\n",
    "from nltk.corpus import stopwords \n",
    "from nltk.tokenize import word_tokenize, sent_tokenize \n",
    "from collections import Counter\n",
    "stop_words = set(stopwords.words('english')) \n",
    "import re\n",
    "#Text Feature Generation\n",
    "import string"
   ]
  },
  {
   "cell_type": "code",
   "execution_count": 8,
   "metadata": {
    "execution": {
     "iopub.execute_input": "2022-04-01T16:51:10.568272Z",
     "iopub.status.busy": "2022-04-01T16:51:10.568016Z",
     "iopub.status.idle": "2022-04-01T16:51:10.722312Z",
     "shell.execute_reply": "2022-04-01T16:51:10.721407Z",
     "shell.execute_reply.started": "2022-04-01T16:51:10.568246Z"
    }
   },
   "outputs": [],
   "source": [
    "# SKLearn: Machine Learning Model Implementation\n",
    "# Preprocessing, Model selection, Train_Test Split\n",
    "# Accuracy Metrics, roc_curve, accuracy scores etc.\n",
    "\n",
    "##### CLASSIFIER USED ######\n",
    "# AdaBoost Classifier\n",
    "# Logistic Regression\n",
    "# Random Forest\n",
    " \n",
    "\n",
    "from time import time\n",
    "from sklearn import preprocessing, model_selection\n",
    "from sklearn.model_selection import train_test_split\n",
    "from sklearn.metrics import roc_auc_score, roc_curve, accuracy_score\n",
    "from sklearn.ensemble import AdaBoostClassifier\n",
    "from sklearn.ensemble import RandomForestClassifier\n",
    "from sklearn.linear_model import LogisticRegression\n",
    "from sklearn.tree import DecisionTreeClassifier\n",
    "import seaborn as sns\n",
    "from sklearn.ensemble import RandomForestClassifier\n",
    "from sklearn.naive_bayes import GaussianNB\n",
    "from sklearn.neighbors import KNeighborsClassifier\n",
    "from sklearn.model_selection import GridSearchCV,StratifiedKFold\n",
    "from sklearn.model_selection import RepeatedStratifiedKFold"
   ]
  },
  {
   "cell_type": "markdown",
   "metadata": {},
   "source": [
    "# **Pre-Processing**"
   ]
  },
  {
   "cell_type": "markdown",
   "metadata": {},
   "source": [
    "**Read Files**"
   ]
  },
  {
   "cell_type": "code",
   "execution_count": 9,
   "metadata": {
    "execution": {
     "iopub.execute_input": "2022-04-01T17:03:45.1892Z",
     "iopub.status.busy": "2022-04-01T17:03:45.188875Z",
     "iopub.status.idle": "2022-04-01T17:03:45.347902Z",
     "shell.execute_reply": "2022-04-01T17:03:45.347033Z",
     "shell.execute_reply.started": "2022-04-01T17:03:45.189173Z"
    }
   },
   "outputs": [],
   "source": [
    "# Loading all reviews (Pandas Dataframe)\n",
    "d1 = pd.read_csv('finalReview3.csv', index_col=0)"
   ]
  },
  {
   "cell_type": "code",
   "execution_count": 10,
   "metadata": {
    "execution": {
     "iopub.execute_input": "2022-04-01T17:04:07.612402Z",
     "iopub.status.busy": "2022-04-01T17:04:07.611995Z",
     "iopub.status.idle": "2022-04-01T17:04:07.658645Z",
     "shell.execute_reply": "2022-04-01T17:04:07.657815Z",
     "shell.execute_reply.started": "2022-04-01T17:04:07.612366Z"
    }
   },
   "outputs": [
    {
     "data": {
      "text/html": [
       "<div>\n",
       "<style scoped>\n",
       "    .dataframe tbody tr th:only-of-type {\n",
       "        vertical-align: middle;\n",
       "    }\n",
       "\n",
       "    .dataframe tbody tr th {\n",
       "        vertical-align: top;\n",
       "    }\n",
       "\n",
       "    .dataframe thead th {\n",
       "        text-align: right;\n",
       "    }\n",
       "</style>\n",
       "<table border=\"1\" class=\"dataframe\">\n",
       "  <thead>\n",
       "    <tr style=\"text-align: right;\">\n",
       "      <th></th>\n",
       "      <th>Date</th>\n",
       "      <th>URL</th>\n",
       "      <th>Review_Title</th>\n",
       "      <th>Author</th>\n",
       "      <th>Rating</th>\n",
       "      <th>Review_text</th>\n",
       "      <th>Review_helpful</th>\n",
       "      <th>Sentiment</th>\n",
       "      <th>Subjectivity</th>\n",
       "      <th>Neg_Count</th>\n",
       "      <th>...</th>\n",
       "      <th>Adv_Count</th>\n",
       "      <th>Pro_Count</th>\n",
       "      <th>Pre_Count</th>\n",
       "      <th>Con_Count</th>\n",
       "      <th>Art_Count</th>\n",
       "      <th>Nega_Count</th>\n",
       "      <th>Aux_Count</th>\n",
       "      <th>Authenticity</th>\n",
       "      <th>AT</th>\n",
       "      <th>Rev_Type</th>\n",
       "    </tr>\n",
       "  </thead>\n",
       "  <tbody>\n",
       "    <tr>\n",
       "      <th>0</th>\n",
       "      <td>Reviewed in India on 10 August 2018</td>\n",
       "      <td>https://www.amazon.in/Logitech-Prodigy-G213-Ga...</td>\n",
       "      <td>It s a logitech  Definitely worth buying it</td>\n",
       "      <td>Aqib Mehmood</td>\n",
       "      <td>5</td>\n",
       "      <td>A really awesome keyboard  i was actually go...</td>\n",
       "      <td>77</td>\n",
       "      <td>0.359722</td>\n",
       "      <td>0.552778</td>\n",
       "      <td>1</td>\n",
       "      <td>...</td>\n",
       "      <td>6</td>\n",
       "      <td>4</td>\n",
       "      <td>3</td>\n",
       "      <td>2</td>\n",
       "      <td>2</td>\n",
       "      <td>1</td>\n",
       "      <td>9</td>\n",
       "      <td>0.706522</td>\n",
       "      <td>13</td>\n",
       "      <td>deceptive</td>\n",
       "    </tr>\n",
       "    <tr>\n",
       "      <th>1</th>\n",
       "      <td>Reviewed in India on 27 March 2018</td>\n",
       "      <td>https://www.amazon.in/Logitech-Prodigy-G213-Ga...</td>\n",
       "      <td>Great deal  got it for        With Lightening ...</td>\n",
       "      <td>Chauhan</td>\n",
       "      <td>4</td>\n",
       "      <td>I know its costly but its worth your money  ...</td>\n",
       "      <td>55</td>\n",
       "      <td>0.233125</td>\n",
       "      <td>0.468542</td>\n",
       "      <td>2</td>\n",
       "      <td>...</td>\n",
       "      <td>10</td>\n",
       "      <td>4</td>\n",
       "      <td>7</td>\n",
       "      <td>2</td>\n",
       "      <td>2</td>\n",
       "      <td>1</td>\n",
       "      <td>6</td>\n",
       "      <td>0.666667</td>\n",
       "      <td>16</td>\n",
       "      <td>deceptive</td>\n",
       "    </tr>\n",
       "    <tr>\n",
       "      <th>2</th>\n",
       "      <td>Reviewed in India on 19 December 2018</td>\n",
       "      <td>https://www.amazon.in/Logitech-Prodigy-G213-Ga...</td>\n",
       "      <td>Loved it</td>\n",
       "      <td>Smok3y</td>\n",
       "      <td>5</td>\n",
       "      <td>I had been contemplating to buy this for a l...</td>\n",
       "      <td>18</td>\n",
       "      <td>0.338750</td>\n",
       "      <td>0.568750</td>\n",
       "      <td>3</td>\n",
       "      <td>...</td>\n",
       "      <td>3</td>\n",
       "      <td>4</td>\n",
       "      <td>7</td>\n",
       "      <td>1</td>\n",
       "      <td>2</td>\n",
       "      <td>0</td>\n",
       "      <td>9</td>\n",
       "      <td>0.735294</td>\n",
       "      <td>22</td>\n",
       "      <td>deceptive</td>\n",
       "    </tr>\n",
       "    <tr>\n",
       "      <th>3</th>\n",
       "      <td>Reviewed in India on 25 June 2020</td>\n",
       "      <td>https://www.amazon.in/Logitech-Prodigy-G213-Ga...</td>\n",
       "      <td>Not a good purchase  please read description</td>\n",
       "      <td>Kumar Saharsh</td>\n",
       "      <td>1</td>\n",
       "      <td>SO   Very very small keys  For fast typers w...</td>\n",
       "      <td>11</td>\n",
       "      <td>0.139083</td>\n",
       "      <td>0.507840</td>\n",
       "      <td>3</td>\n",
       "      <td>...</td>\n",
       "      <td>6</td>\n",
       "      <td>4</td>\n",
       "      <td>8</td>\n",
       "      <td>1</td>\n",
       "      <td>2</td>\n",
       "      <td>2</td>\n",
       "      <td>5</td>\n",
       "      <td>0.687500</td>\n",
       "      <td>22</td>\n",
       "      <td>deceptive</td>\n",
       "    </tr>\n",
       "    <tr>\n",
       "      <th>4</th>\n",
       "      <td>Reviewed in India on 27 October 2018</td>\n",
       "      <td>https://www.amazon.in/Logitech-Prodigy-G213-Ga...</td>\n",
       "      <td>Good only when new</td>\n",
       "      <td>Amazon Customer</td>\n",
       "      <td>2</td>\n",
       "      <td>Good to use keyboard while it is new  but it...</td>\n",
       "      <td>15</td>\n",
       "      <td>0.165427</td>\n",
       "      <td>0.698140</td>\n",
       "      <td>2</td>\n",
       "      <td>...</td>\n",
       "      <td>4</td>\n",
       "      <td>2</td>\n",
       "      <td>9</td>\n",
       "      <td>2</td>\n",
       "      <td>1</td>\n",
       "      <td>1</td>\n",
       "      <td>3</td>\n",
       "      <td>0.731343</td>\n",
       "      <td>28</td>\n",
       "      <td>truthful</td>\n",
       "    </tr>\n",
       "  </tbody>\n",
       "</table>\n",
       "<p>5 rows × 25 columns</p>\n",
       "</div>"
      ],
      "text/plain": [
       "                                    Date  \\\n",
       "0    Reviewed in India on 10 August 2018   \n",
       "1     Reviewed in India on 27 March 2018   \n",
       "2  Reviewed in India on 19 December 2018   \n",
       "3      Reviewed in India on 25 June 2020   \n",
       "4   Reviewed in India on 27 October 2018   \n",
       "\n",
       "                                                 URL  \\\n",
       "0  https://www.amazon.in/Logitech-Prodigy-G213-Ga...   \n",
       "1  https://www.amazon.in/Logitech-Prodigy-G213-Ga...   \n",
       "2  https://www.amazon.in/Logitech-Prodigy-G213-Ga...   \n",
       "3  https://www.amazon.in/Logitech-Prodigy-G213-Ga...   \n",
       "4  https://www.amazon.in/Logitech-Prodigy-G213-Ga...   \n",
       "\n",
       "                                        Review_Title           Author  Rating  \\\n",
       "0       It s a logitech  Definitely worth buying it      Aqib Mehmood       5   \n",
       "1  Great deal  got it for        With Lightening ...          Chauhan       4   \n",
       "2                                           Loved it           Smok3y       5   \n",
       "3       Not a good purchase  please read description    Kumar Saharsh       1   \n",
       "4                                 Good only when new  Amazon Customer       2   \n",
       "\n",
       "                                         Review_text  Review_helpful  \\\n",
       "0    A really awesome keyboard  i was actually go...              77   \n",
       "1    I know its costly but its worth your money  ...              55   \n",
       "2    I had been contemplating to buy this for a l...              18   \n",
       "3    SO   Very very small keys  For fast typers w...              11   \n",
       "4    Good to use keyboard while it is new  but it...              15   \n",
       "\n",
       "   Sentiment  Subjectivity  Neg_Count  ...  Adv_Count  Pro_Count  Pre_Count  \\\n",
       "0   0.359722      0.552778          1  ...          6          4          3   \n",
       "1   0.233125      0.468542          2  ...         10          4          7   \n",
       "2   0.338750      0.568750          3  ...          3          4          7   \n",
       "3   0.139083      0.507840          3  ...          6          4          8   \n",
       "4   0.165427      0.698140          2  ...          4          2          9   \n",
       "\n",
       "   Con_Count  Art_Count  Nega_Count  Aux_Count  Authenticity  AT   Rev_Type  \n",
       "0          2          2           1          9      0.706522  13  deceptive  \n",
       "1          2          2           1          6      0.666667  16  deceptive  \n",
       "2          1          2           0          9      0.735294  22  deceptive  \n",
       "3          1          2           2          5      0.687500  22  deceptive  \n",
       "4          2          1           1          3      0.731343  28   truthful  \n",
       "\n",
       "[5 rows x 25 columns]"
      ]
     },
     "execution_count": 10,
     "metadata": {},
     "output_type": "execute_result"
    }
   ],
   "source": [
    "# Shape of Dataframe\n",
    "d1.head(5)"
   ]
  },
  {
   "cell_type": "markdown",
   "metadata": {},
   "source": [
    "**Check for Missing Values**"
   ]
  },
  {
   "cell_type": "code",
   "execution_count": 11,
   "metadata": {
    "execution": {
     "iopub.execute_input": "2022-04-01T17:05:08.195149Z",
     "iopub.status.busy": "2022-04-01T17:05:08.19456Z",
     "iopub.status.idle": "2022-04-01T17:05:08.209168Z",
     "shell.execute_reply": "2022-04-01T17:05:08.207929Z",
     "shell.execute_reply.started": "2022-04-01T17:05:08.195104Z"
    }
   },
   "outputs": [
    {
     "name": "stdout",
     "output_type": "stream",
     "text": [
      "\n",
      "Missing Values in all columns of dataset:\n",
      "Date              0\n",
      "URL               0\n",
      "Review_Title      0\n",
      "Author            0\n",
      "Rating            0\n",
      "Review_text       0\n",
      "Review_helpful    0\n",
      "Sentiment         0\n",
      "Subjectivity      0\n",
      "Neg_Count         0\n",
      "Word_Count        0\n",
      "Unique_words      0\n",
      "Noun_Count        0\n",
      "Adj_Count         0\n",
      "Verb_Count        0\n",
      "Adv_Count         0\n",
      "Pro_Count         0\n",
      "Pre_Count         0\n",
      "Con_Count         0\n",
      "Art_Count         0\n",
      "Nega_Count        0\n",
      "Aux_Count         0\n",
      "Authenticity      0\n",
      "AT                0\n",
      "Rev_Type          0\n",
      "dtype: int64\n"
     ]
    }
   ],
   "source": [
    "# Checking Missing values in dataset\n",
    "print('\\nMissing Values in all columns of dataset:')\n",
    "print(d1.isnull().sum()) # Calculate sum of all missing values in dataset"
   ]
  },
  {
   "cell_type": "code",
   "execution_count": 12,
   "metadata": {
    "execution": {
     "iopub.execute_input": "2022-04-01T17:05:49.936856Z",
     "iopub.status.busy": "2022-04-01T17:05:49.936218Z",
     "iopub.status.idle": "2022-04-01T17:05:49.948807Z",
     "shell.execute_reply": "2022-04-01T17:05:49.947558Z",
     "shell.execute_reply.started": "2022-04-01T17:05:49.936817Z"
    }
   },
   "outputs": [],
   "source": [
    "# In some cases Missing Values are replaced with -infinity or +infinity,\n",
    "# Converting all the values in NaN - inplace=True (for actual dataset)\n",
    "d1.replace([np.inf, -np.inf], np.nan,inplace=True)"
   ]
  },
  {
   "cell_type": "code",
   "execution_count": 13,
   "metadata": {
    "execution": {
     "iopub.execute_input": "2022-04-01T17:05:57.891102Z",
     "iopub.status.busy": "2022-04-01T17:05:57.890693Z",
     "iopub.status.idle": "2022-04-01T17:05:57.924824Z",
     "shell.execute_reply": "2022-04-01T17:05:57.92379Z",
     "shell.execute_reply.started": "2022-04-01T17:05:57.891067Z"
    }
   },
   "outputs": [],
   "source": [
    "# In some cases Missing Values with String data-types are replaced with NULL,\n",
    "# Converting all the NULL values in NaN - inplace=True (for actual dataset)\n",
    "d1.dropna(inplace=True) "
   ]
  },
  {
   "cell_type": "code",
   "execution_count": 14,
   "metadata": {},
   "outputs": [
    {
     "data": {
      "text/plain": [
       "'  And Yesssss  this is what  i was looking for  Perfect Keyboard  Worth every penny  Best part is you can control the keyboard light by using logitech software  You can easily download it from the official website of logitech Coming to the built quality I would say  Awesome  Believe me  when you touch the keyboard for the first time  You will easily get it  how is the built quality USB cable and wire  you will never find this kind of strong and good quality USB cable in other keyboard Well  this keyboard is not exactly mechanical keyboard  But feels like same Believe me this keyboard is '"
      ]
     },
     "execution_count": 14,
     "metadata": {},
     "output_type": "execute_result"
    }
   ],
   "source": [
    "d1.at[50,'Review_text']\n"
   ]
  },
  {
   "cell_type": "code",
   "execution_count": 15,
   "metadata": {},
   "outputs": [
    {
     "data": {
      "text/plain": [
       "'  I had been contemplating to buy this for a long time  Went through numerous reviews and compared all other products in similar price range on offer  This was the best amongst all that I could review  It was delivered in excellent condition  well packed and timely delivery  I have been using it for over a month now and all is as expected  The RGB lights are well lit and you can change the zone lighting in   zones  There are     types of pulse settings for the lighting  They keys have a nice tactile feel and are broad and we will placed  Works excellent '"
      ]
     },
     "execution_count": 15,
     "metadata": {},
     "output_type": "execute_result"
    }
   ],
   "source": [
    "d1.at[2,'Review_text']"
   ]
  },
  {
   "cell_type": "markdown",
   "metadata": {},
   "source": [
    "**Removing READ MORE from Review text**"
   ]
  },
  {
   "cell_type": "code",
   "execution_count": 16,
   "metadata": {
    "execution": {
     "iopub.execute_input": "2022-04-01T17:06:08.240353Z",
     "iopub.status.busy": "2022-04-01T17:06:08.239623Z",
     "iopub.status.idle": "2022-04-01T17:06:08.374471Z",
     "shell.execute_reply": "2022-04-01T17:06:08.373428Z",
     "shell.execute_reply.started": "2022-04-01T17:06:08.240302Z"
    }
   },
   "outputs": [],
   "source": [
    "# Python Lamdas to Remove the READ MORE \n",
    "d1['Review_text'] = d1.apply(lambda x: x.Review_text.replace('READ MORE', ''), axis=1)"
   ]
  },
  {
   "cell_type": "markdown",
   "metadata": {},
   "source": [
    "**Date Formatting**"
   ]
  },
  {
   "cell_type": "code",
   "execution_count": 17,
   "metadata": {
    "execution": {
     "iopub.execute_input": "2022-04-01T17:06:18.62103Z",
     "iopub.status.busy": "2022-04-01T17:06:18.6204Z",
     "iopub.status.idle": "2022-04-01T17:06:18.67133Z",
     "shell.execute_reply": "2022-04-01T17:06:18.670155Z",
     "shell.execute_reply.started": "2022-04-01T17:06:18.62097Z"
    }
   },
   "outputs": [],
   "source": [
    "# Slicing Data Column with Date only, removing all other values\n",
    "# Slicing the string at string size 21...\n",
    "date = d1['Date'].str.slice(21)\n",
    "\n"
   ]
  },
  {
   "cell_type": "code",
   "execution_count": 18,
   "metadata": {},
   "outputs": [
    {
     "data": {
      "text/plain": [
       "0      10 August 2018\n",
       "1       27 March 2018\n",
       "2    19 December 2018\n",
       "3        25 June 2020\n",
       "4     27 October 2018\n",
       "Name: Date, dtype: object"
      ]
     },
     "execution_count": 18,
     "metadata": {},
     "output_type": "execute_result"
    }
   ],
   "source": [
    "# Visualizing the date after slicing\n",
    "date.head()"
   ]
  },
  {
   "cell_type": "code",
   "execution_count": 19,
   "metadata": {},
   "outputs": [],
   "source": [
    "# Changing the actual dataframe for date format\n",
    "d1['Date'] = pd.to_datetime(date, format='%d %B %Y')"
   ]
  },
  {
   "cell_type": "code",
   "execution_count": 20,
   "metadata": {},
   "outputs": [
    {
     "data": {
      "text/html": [
       "<div>\n",
       "<style scoped>\n",
       "    .dataframe tbody tr th:only-of-type {\n",
       "        vertical-align: middle;\n",
       "    }\n",
       "\n",
       "    .dataframe tbody tr th {\n",
       "        vertical-align: top;\n",
       "    }\n",
       "\n",
       "    .dataframe thead th {\n",
       "        text-align: right;\n",
       "    }\n",
       "</style>\n",
       "<table border=\"1\" class=\"dataframe\">\n",
       "  <thead>\n",
       "    <tr style=\"text-align: right;\">\n",
       "      <th></th>\n",
       "      <th>Date</th>\n",
       "      <th>URL</th>\n",
       "      <th>Review_Title</th>\n",
       "      <th>Author</th>\n",
       "      <th>Rating</th>\n",
       "      <th>Review_text</th>\n",
       "      <th>Review_helpful</th>\n",
       "      <th>Sentiment</th>\n",
       "      <th>Subjectivity</th>\n",
       "      <th>Neg_Count</th>\n",
       "      <th>...</th>\n",
       "      <th>Adv_Count</th>\n",
       "      <th>Pro_Count</th>\n",
       "      <th>Pre_Count</th>\n",
       "      <th>Con_Count</th>\n",
       "      <th>Art_Count</th>\n",
       "      <th>Nega_Count</th>\n",
       "      <th>Aux_Count</th>\n",
       "      <th>Authenticity</th>\n",
       "      <th>AT</th>\n",
       "      <th>Rev_Type</th>\n",
       "    </tr>\n",
       "  </thead>\n",
       "  <tbody>\n",
       "    <tr>\n",
       "      <th>0</th>\n",
       "      <td>2018-08-10</td>\n",
       "      <td>https://www.amazon.in/Logitech-Prodigy-G213-Ga...</td>\n",
       "      <td>It s a logitech  Definitely worth buying it</td>\n",
       "      <td>Aqib Mehmood</td>\n",
       "      <td>5</td>\n",
       "      <td>A really awesome keyboard  i was actually go...</td>\n",
       "      <td>77</td>\n",
       "      <td>0.359722</td>\n",
       "      <td>0.552778</td>\n",
       "      <td>1</td>\n",
       "      <td>...</td>\n",
       "      <td>6</td>\n",
       "      <td>4</td>\n",
       "      <td>3</td>\n",
       "      <td>2</td>\n",
       "      <td>2</td>\n",
       "      <td>1</td>\n",
       "      <td>9</td>\n",
       "      <td>0.706522</td>\n",
       "      <td>13</td>\n",
       "      <td>deceptive</td>\n",
       "    </tr>\n",
       "    <tr>\n",
       "      <th>1</th>\n",
       "      <td>2018-03-27</td>\n",
       "      <td>https://www.amazon.in/Logitech-Prodigy-G213-Ga...</td>\n",
       "      <td>Great deal  got it for        With Lightening ...</td>\n",
       "      <td>Chauhan</td>\n",
       "      <td>4</td>\n",
       "      <td>I know its costly but its worth your money  ...</td>\n",
       "      <td>55</td>\n",
       "      <td>0.233125</td>\n",
       "      <td>0.468542</td>\n",
       "      <td>2</td>\n",
       "      <td>...</td>\n",
       "      <td>10</td>\n",
       "      <td>4</td>\n",
       "      <td>7</td>\n",
       "      <td>2</td>\n",
       "      <td>2</td>\n",
       "      <td>1</td>\n",
       "      <td>6</td>\n",
       "      <td>0.666667</td>\n",
       "      <td>16</td>\n",
       "      <td>deceptive</td>\n",
       "    </tr>\n",
       "    <tr>\n",
       "      <th>2</th>\n",
       "      <td>2018-12-19</td>\n",
       "      <td>https://www.amazon.in/Logitech-Prodigy-G213-Ga...</td>\n",
       "      <td>Loved it</td>\n",
       "      <td>Smok3y</td>\n",
       "      <td>5</td>\n",
       "      <td>I had been contemplating to buy this for a l...</td>\n",
       "      <td>18</td>\n",
       "      <td>0.338750</td>\n",
       "      <td>0.568750</td>\n",
       "      <td>3</td>\n",
       "      <td>...</td>\n",
       "      <td>3</td>\n",
       "      <td>4</td>\n",
       "      <td>7</td>\n",
       "      <td>1</td>\n",
       "      <td>2</td>\n",
       "      <td>0</td>\n",
       "      <td>9</td>\n",
       "      <td>0.735294</td>\n",
       "      <td>22</td>\n",
       "      <td>deceptive</td>\n",
       "    </tr>\n",
       "    <tr>\n",
       "      <th>3</th>\n",
       "      <td>2020-06-25</td>\n",
       "      <td>https://www.amazon.in/Logitech-Prodigy-G213-Ga...</td>\n",
       "      <td>Not a good purchase  please read description</td>\n",
       "      <td>Kumar Saharsh</td>\n",
       "      <td>1</td>\n",
       "      <td>SO   Very very small keys  For fast typers w...</td>\n",
       "      <td>11</td>\n",
       "      <td>0.139083</td>\n",
       "      <td>0.507840</td>\n",
       "      <td>3</td>\n",
       "      <td>...</td>\n",
       "      <td>6</td>\n",
       "      <td>4</td>\n",
       "      <td>8</td>\n",
       "      <td>1</td>\n",
       "      <td>2</td>\n",
       "      <td>2</td>\n",
       "      <td>5</td>\n",
       "      <td>0.687500</td>\n",
       "      <td>22</td>\n",
       "      <td>deceptive</td>\n",
       "    </tr>\n",
       "    <tr>\n",
       "      <th>4</th>\n",
       "      <td>2018-10-27</td>\n",
       "      <td>https://www.amazon.in/Logitech-Prodigy-G213-Ga...</td>\n",
       "      <td>Good only when new</td>\n",
       "      <td>Amazon Customer</td>\n",
       "      <td>2</td>\n",
       "      <td>Good to use keyboard while it is new  but it...</td>\n",
       "      <td>15</td>\n",
       "      <td>0.165427</td>\n",
       "      <td>0.698140</td>\n",
       "      <td>2</td>\n",
       "      <td>...</td>\n",
       "      <td>4</td>\n",
       "      <td>2</td>\n",
       "      <td>9</td>\n",
       "      <td>2</td>\n",
       "      <td>1</td>\n",
       "      <td>1</td>\n",
       "      <td>3</td>\n",
       "      <td>0.731343</td>\n",
       "      <td>28</td>\n",
       "      <td>truthful</td>\n",
       "    </tr>\n",
       "  </tbody>\n",
       "</table>\n",
       "<p>5 rows × 25 columns</p>\n",
       "</div>"
      ],
      "text/plain": [
       "        Date                                                URL  \\\n",
       "0 2018-08-10  https://www.amazon.in/Logitech-Prodigy-G213-Ga...   \n",
       "1 2018-03-27  https://www.amazon.in/Logitech-Prodigy-G213-Ga...   \n",
       "2 2018-12-19  https://www.amazon.in/Logitech-Prodigy-G213-Ga...   \n",
       "3 2020-06-25  https://www.amazon.in/Logitech-Prodigy-G213-Ga...   \n",
       "4 2018-10-27  https://www.amazon.in/Logitech-Prodigy-G213-Ga...   \n",
       "\n",
       "                                        Review_Title           Author  Rating  \\\n",
       "0       It s a logitech  Definitely worth buying it      Aqib Mehmood       5   \n",
       "1  Great deal  got it for        With Lightening ...          Chauhan       4   \n",
       "2                                           Loved it           Smok3y       5   \n",
       "3       Not a good purchase  please read description    Kumar Saharsh       1   \n",
       "4                                 Good only when new  Amazon Customer       2   \n",
       "\n",
       "                                         Review_text  Review_helpful  \\\n",
       "0    A really awesome keyboard  i was actually go...              77   \n",
       "1    I know its costly but its worth your money  ...              55   \n",
       "2    I had been contemplating to buy this for a l...              18   \n",
       "3    SO   Very very small keys  For fast typers w...              11   \n",
       "4    Good to use keyboard while it is new  but it...              15   \n",
       "\n",
       "   Sentiment  Subjectivity  Neg_Count  ...  Adv_Count  Pro_Count  Pre_Count  \\\n",
       "0   0.359722      0.552778          1  ...          6          4          3   \n",
       "1   0.233125      0.468542          2  ...         10          4          7   \n",
       "2   0.338750      0.568750          3  ...          3          4          7   \n",
       "3   0.139083      0.507840          3  ...          6          4          8   \n",
       "4   0.165427      0.698140          2  ...          4          2          9   \n",
       "\n",
       "   Con_Count  Art_Count  Nega_Count  Aux_Count  Authenticity  AT   Rev_Type  \n",
       "0          2          2           1          9      0.706522  13  deceptive  \n",
       "1          2          2           1          6      0.666667  16  deceptive  \n",
       "2          1          2           0          9      0.735294  22  deceptive  \n",
       "3          1          2           2          5      0.687500  22  deceptive  \n",
       "4          2          1           1          3      0.731343  28   truthful  \n",
       "\n",
       "[5 rows x 25 columns]"
      ]
     },
     "execution_count": 20,
     "metadata": {},
     "output_type": "execute_result"
    }
   ],
   "source": [
    "d1.head()"
   ]
  },
  {
   "cell_type": "code",
   "execution_count": 21,
   "metadata": {
    "execution": {
     "iopub.execute_input": "2022-04-01T17:07:19.337786Z",
     "iopub.status.busy": "2022-04-01T17:07:19.337106Z",
     "iopub.status.idle": "2022-04-01T17:07:19.366654Z",
     "shell.execute_reply": "2022-04-01T17:07:19.365627Z",
     "shell.execute_reply.started": "2022-04-01T17:07:19.337731Z"
    }
   },
   "outputs": [
    {
     "data": {
      "text/html": [
       "<div>\n",
       "<style scoped>\n",
       "    .dataframe tbody tr th:only-of-type {\n",
       "        vertical-align: middle;\n",
       "    }\n",
       "\n",
       "    .dataframe tbody tr th {\n",
       "        vertical-align: top;\n",
       "    }\n",
       "\n",
       "    .dataframe thead th {\n",
       "        text-align: right;\n",
       "    }\n",
       "</style>\n",
       "<table border=\"1\" class=\"dataframe\">\n",
       "  <thead>\n",
       "    <tr style=\"text-align: right;\">\n",
       "      <th></th>\n",
       "      <th>Date</th>\n",
       "      <th>URL</th>\n",
       "      <th>Review_Title</th>\n",
       "      <th>Author</th>\n",
       "      <th>Rating</th>\n",
       "      <th>Review_text</th>\n",
       "      <th>Review_helpful</th>\n",
       "      <th>Sentiment</th>\n",
       "      <th>Subjectivity</th>\n",
       "      <th>Neg_Count</th>\n",
       "      <th>...</th>\n",
       "      <th>Adv_Count</th>\n",
       "      <th>Pro_Count</th>\n",
       "      <th>Pre_Count</th>\n",
       "      <th>Con_Count</th>\n",
       "      <th>Art_Count</th>\n",
       "      <th>Nega_Count</th>\n",
       "      <th>Aux_Count</th>\n",
       "      <th>Authenticity</th>\n",
       "      <th>AT</th>\n",
       "      <th>Rev_Type</th>\n",
       "    </tr>\n",
       "  </thead>\n",
       "  <tbody>\n",
       "    <tr>\n",
       "      <th>0</th>\n",
       "      <td>2018-08-10</td>\n",
       "      <td>https://www.amazon.in/Logitech-Prodigy-G213-Ga...</td>\n",
       "      <td>It s a logitech  Definitely worth buying it</td>\n",
       "      <td>Aqib Mehmood</td>\n",
       "      <td>5</td>\n",
       "      <td>A really awesome keyboard  i was actually go...</td>\n",
       "      <td>77</td>\n",
       "      <td>0.359722</td>\n",
       "      <td>0.552778</td>\n",
       "      <td>1</td>\n",
       "      <td>...</td>\n",
       "      <td>6</td>\n",
       "      <td>4</td>\n",
       "      <td>3</td>\n",
       "      <td>2</td>\n",
       "      <td>2</td>\n",
       "      <td>1</td>\n",
       "      <td>9</td>\n",
       "      <td>0.706522</td>\n",
       "      <td>13</td>\n",
       "      <td>deceptive</td>\n",
       "    </tr>\n",
       "    <tr>\n",
       "      <th>1</th>\n",
       "      <td>2018-03-27</td>\n",
       "      <td>https://www.amazon.in/Logitech-Prodigy-G213-Ga...</td>\n",
       "      <td>Great deal  got it for        With Lightening ...</td>\n",
       "      <td>Chauhan</td>\n",
       "      <td>4</td>\n",
       "      <td>I know its costly but its worth your money  ...</td>\n",
       "      <td>55</td>\n",
       "      <td>0.233125</td>\n",
       "      <td>0.468542</td>\n",
       "      <td>2</td>\n",
       "      <td>...</td>\n",
       "      <td>10</td>\n",
       "      <td>4</td>\n",
       "      <td>7</td>\n",
       "      <td>2</td>\n",
       "      <td>2</td>\n",
       "      <td>1</td>\n",
       "      <td>6</td>\n",
       "      <td>0.666667</td>\n",
       "      <td>16</td>\n",
       "      <td>deceptive</td>\n",
       "    </tr>\n",
       "    <tr>\n",
       "      <th>2</th>\n",
       "      <td>2018-12-19</td>\n",
       "      <td>https://www.amazon.in/Logitech-Prodigy-G213-Ga...</td>\n",
       "      <td>Loved it</td>\n",
       "      <td>Smok3y</td>\n",
       "      <td>5</td>\n",
       "      <td>I had been contemplating to buy this for a l...</td>\n",
       "      <td>18</td>\n",
       "      <td>0.338750</td>\n",
       "      <td>0.568750</td>\n",
       "      <td>3</td>\n",
       "      <td>...</td>\n",
       "      <td>3</td>\n",
       "      <td>4</td>\n",
       "      <td>7</td>\n",
       "      <td>1</td>\n",
       "      <td>2</td>\n",
       "      <td>0</td>\n",
       "      <td>9</td>\n",
       "      <td>0.735294</td>\n",
       "      <td>22</td>\n",
       "      <td>deceptive</td>\n",
       "    </tr>\n",
       "    <tr>\n",
       "      <th>3</th>\n",
       "      <td>2020-06-25</td>\n",
       "      <td>https://www.amazon.in/Logitech-Prodigy-G213-Ga...</td>\n",
       "      <td>Not a good purchase  please read description</td>\n",
       "      <td>Kumar Saharsh</td>\n",
       "      <td>1</td>\n",
       "      <td>SO   Very very small keys  For fast typers w...</td>\n",
       "      <td>11</td>\n",
       "      <td>0.139083</td>\n",
       "      <td>0.507840</td>\n",
       "      <td>3</td>\n",
       "      <td>...</td>\n",
       "      <td>6</td>\n",
       "      <td>4</td>\n",
       "      <td>8</td>\n",
       "      <td>1</td>\n",
       "      <td>2</td>\n",
       "      <td>2</td>\n",
       "      <td>5</td>\n",
       "      <td>0.687500</td>\n",
       "      <td>22</td>\n",
       "      <td>deceptive</td>\n",
       "    </tr>\n",
       "    <tr>\n",
       "      <th>4</th>\n",
       "      <td>2018-10-27</td>\n",
       "      <td>https://www.amazon.in/Logitech-Prodigy-G213-Ga...</td>\n",
       "      <td>Good only when new</td>\n",
       "      <td>Amazon Customer</td>\n",
       "      <td>2</td>\n",
       "      <td>Good to use keyboard while it is new  but it...</td>\n",
       "      <td>15</td>\n",
       "      <td>0.165427</td>\n",
       "      <td>0.698140</td>\n",
       "      <td>2</td>\n",
       "      <td>...</td>\n",
       "      <td>4</td>\n",
       "      <td>2</td>\n",
       "      <td>9</td>\n",
       "      <td>2</td>\n",
       "      <td>1</td>\n",
       "      <td>1</td>\n",
       "      <td>3</td>\n",
       "      <td>0.731343</td>\n",
       "      <td>28</td>\n",
       "      <td>truthful</td>\n",
       "    </tr>\n",
       "  </tbody>\n",
       "</table>\n",
       "<p>5 rows × 25 columns</p>\n",
       "</div>"
      ],
      "text/plain": [
       "        Date                                                URL  \\\n",
       "0 2018-08-10  https://www.amazon.in/Logitech-Prodigy-G213-Ga...   \n",
       "1 2018-03-27  https://www.amazon.in/Logitech-Prodigy-G213-Ga...   \n",
       "2 2018-12-19  https://www.amazon.in/Logitech-Prodigy-G213-Ga...   \n",
       "3 2020-06-25  https://www.amazon.in/Logitech-Prodigy-G213-Ga...   \n",
       "4 2018-10-27  https://www.amazon.in/Logitech-Prodigy-G213-Ga...   \n",
       "\n",
       "                                        Review_Title           Author  Rating  \\\n",
       "0       It s a logitech  Definitely worth buying it      Aqib Mehmood       5   \n",
       "1  Great deal  got it for        With Lightening ...          Chauhan       4   \n",
       "2                                           Loved it           Smok3y       5   \n",
       "3       Not a good purchase  please read description    Kumar Saharsh       1   \n",
       "4                                 Good only when new  Amazon Customer       2   \n",
       "\n",
       "                                         Review_text  Review_helpful  \\\n",
       "0    A really awesome keyboard  i was actually go...              77   \n",
       "1    I know its costly but its worth your money  ...              55   \n",
       "2    I had been contemplating to buy this for a l...              18   \n",
       "3    SO   Very very small keys  For fast typers w...              11   \n",
       "4    Good to use keyboard while it is new  but it...              15   \n",
       "\n",
       "   Sentiment  Subjectivity  Neg_Count  ...  Adv_Count  Pro_Count  Pre_Count  \\\n",
       "0   0.359722      0.552778          1  ...          6          4          3   \n",
       "1   0.233125      0.468542          2  ...         10          4          7   \n",
       "2   0.338750      0.568750          3  ...          3          4          7   \n",
       "3   0.139083      0.507840          3  ...          6          4          8   \n",
       "4   0.165427      0.698140          2  ...          4          2          9   \n",
       "\n",
       "   Con_Count  Art_Count  Nega_Count  Aux_Count  Authenticity  AT   Rev_Type  \n",
       "0          2          2           1          9      0.706522  13  deceptive  \n",
       "1          2          2           1          6      0.666667  16  deceptive  \n",
       "2          1          2           0          9      0.735294  22  deceptive  \n",
       "3          1          2           2          5      0.687500  22  deceptive  \n",
       "4          2          1           1          3      0.731343  28   truthful  \n",
       "\n",
       "[5 rows x 25 columns]"
      ]
     },
     "execution_count": 21,
     "metadata": {},
     "output_type": "execute_result"
    }
   ],
   "source": [
    "d1.head()"
   ]
  },
  {
   "cell_type": "markdown",
   "metadata": {},
   "source": [
    "**Helpful Rating Formatting**"
   ]
  },
  {
   "cell_type": "code",
   "execution_count": 22,
   "metadata": {
    "execution": {
     "iopub.execute_input": "2022-04-01T17:09:39.695736Z",
     "iopub.status.busy": "2022-04-01T17:09:39.695058Z",
     "iopub.status.idle": "2022-04-01T17:09:39.700837Z",
     "shell.execute_reply": "2022-04-01T17:09:39.700116Z",
     "shell.execute_reply.started": "2022-04-01T17:09:39.695664Z"
    }
   },
   "outputs": [],
   "source": [
    "def convert(x):\n",
    "    if x == 'One':\n",
    "        return '1'\n",
    "    else:\n",
    "        return x"
   ]
  },
  {
   "cell_type": "code",
   "execution_count": 23,
   "metadata": {},
   "outputs": [
    {
     "data": {
      "text/plain": [
       "(9438, 25)"
      ]
     },
     "execution_count": 23,
     "metadata": {},
     "output_type": "execute_result"
    }
   ],
   "source": [
    "d1.shape"
   ]
  },
  {
   "cell_type": "markdown",
   "metadata": {},
   "source": [
    "### All the necessary operations completed on Dataset."
   ]
  },
  {
   "cell_type": "code",
   "execution_count": 24,
   "metadata": {},
   "outputs": [
    {
     "data": {
      "text/html": [
       "<div>\n",
       "<style scoped>\n",
       "    .dataframe tbody tr th:only-of-type {\n",
       "        vertical-align: middle;\n",
       "    }\n",
       "\n",
       "    .dataframe tbody tr th {\n",
       "        vertical-align: top;\n",
       "    }\n",
       "\n",
       "    .dataframe thead th {\n",
       "        text-align: right;\n",
       "    }\n",
       "</style>\n",
       "<table border=\"1\" class=\"dataframe\">\n",
       "  <thead>\n",
       "    <tr style=\"text-align: right;\">\n",
       "      <th></th>\n",
       "      <th>Date</th>\n",
       "      <th>URL</th>\n",
       "      <th>Review_Title</th>\n",
       "      <th>Author</th>\n",
       "      <th>Rating</th>\n",
       "      <th>Review_text</th>\n",
       "      <th>Review_helpful</th>\n",
       "      <th>Sentiment</th>\n",
       "      <th>Subjectivity</th>\n",
       "      <th>Neg_Count</th>\n",
       "      <th>...</th>\n",
       "      <th>Adv_Count</th>\n",
       "      <th>Pro_Count</th>\n",
       "      <th>Pre_Count</th>\n",
       "      <th>Con_Count</th>\n",
       "      <th>Art_Count</th>\n",
       "      <th>Nega_Count</th>\n",
       "      <th>Aux_Count</th>\n",
       "      <th>Authenticity</th>\n",
       "      <th>AT</th>\n",
       "      <th>Rev_Type</th>\n",
       "    </tr>\n",
       "  </thead>\n",
       "  <tbody>\n",
       "    <tr>\n",
       "      <th>0</th>\n",
       "      <td>2018-08-10</td>\n",
       "      <td>https://www.amazon.in/Logitech-Prodigy-G213-Ga...</td>\n",
       "      <td>It s a logitech  Definitely worth buying it</td>\n",
       "      <td>Aqib Mehmood</td>\n",
       "      <td>5</td>\n",
       "      <td>A really awesome keyboard  i was actually go...</td>\n",
       "      <td>77</td>\n",
       "      <td>0.359722</td>\n",
       "      <td>0.552778</td>\n",
       "      <td>1</td>\n",
       "      <td>...</td>\n",
       "      <td>6</td>\n",
       "      <td>4</td>\n",
       "      <td>3</td>\n",
       "      <td>2</td>\n",
       "      <td>2</td>\n",
       "      <td>1</td>\n",
       "      <td>9</td>\n",
       "      <td>0.706522</td>\n",
       "      <td>13</td>\n",
       "      <td>deceptive</td>\n",
       "    </tr>\n",
       "    <tr>\n",
       "      <th>1</th>\n",
       "      <td>2018-03-27</td>\n",
       "      <td>https://www.amazon.in/Logitech-Prodigy-G213-Ga...</td>\n",
       "      <td>Great deal  got it for        With Lightening ...</td>\n",
       "      <td>Chauhan</td>\n",
       "      <td>4</td>\n",
       "      <td>I know its costly but its worth your money  ...</td>\n",
       "      <td>55</td>\n",
       "      <td>0.233125</td>\n",
       "      <td>0.468542</td>\n",
       "      <td>2</td>\n",
       "      <td>...</td>\n",
       "      <td>10</td>\n",
       "      <td>4</td>\n",
       "      <td>7</td>\n",
       "      <td>2</td>\n",
       "      <td>2</td>\n",
       "      <td>1</td>\n",
       "      <td>6</td>\n",
       "      <td>0.666667</td>\n",
       "      <td>16</td>\n",
       "      <td>deceptive</td>\n",
       "    </tr>\n",
       "    <tr>\n",
       "      <th>2</th>\n",
       "      <td>2018-12-19</td>\n",
       "      <td>https://www.amazon.in/Logitech-Prodigy-G213-Ga...</td>\n",
       "      <td>Loved it</td>\n",
       "      <td>Smok3y</td>\n",
       "      <td>5</td>\n",
       "      <td>I had been contemplating to buy this for a l...</td>\n",
       "      <td>18</td>\n",
       "      <td>0.338750</td>\n",
       "      <td>0.568750</td>\n",
       "      <td>3</td>\n",
       "      <td>...</td>\n",
       "      <td>3</td>\n",
       "      <td>4</td>\n",
       "      <td>7</td>\n",
       "      <td>1</td>\n",
       "      <td>2</td>\n",
       "      <td>0</td>\n",
       "      <td>9</td>\n",
       "      <td>0.735294</td>\n",
       "      <td>22</td>\n",
       "      <td>deceptive</td>\n",
       "    </tr>\n",
       "    <tr>\n",
       "      <th>3</th>\n",
       "      <td>2020-06-25</td>\n",
       "      <td>https://www.amazon.in/Logitech-Prodigy-G213-Ga...</td>\n",
       "      <td>Not a good purchase  please read description</td>\n",
       "      <td>Kumar Saharsh</td>\n",
       "      <td>1</td>\n",
       "      <td>SO   Very very small keys  For fast typers w...</td>\n",
       "      <td>11</td>\n",
       "      <td>0.139083</td>\n",
       "      <td>0.507840</td>\n",
       "      <td>3</td>\n",
       "      <td>...</td>\n",
       "      <td>6</td>\n",
       "      <td>4</td>\n",
       "      <td>8</td>\n",
       "      <td>1</td>\n",
       "      <td>2</td>\n",
       "      <td>2</td>\n",
       "      <td>5</td>\n",
       "      <td>0.687500</td>\n",
       "      <td>22</td>\n",
       "      <td>deceptive</td>\n",
       "    </tr>\n",
       "    <tr>\n",
       "      <th>4</th>\n",
       "      <td>2018-10-27</td>\n",
       "      <td>https://www.amazon.in/Logitech-Prodigy-G213-Ga...</td>\n",
       "      <td>Good only when new</td>\n",
       "      <td>Amazon Customer</td>\n",
       "      <td>2</td>\n",
       "      <td>Good to use keyboard while it is new  but it...</td>\n",
       "      <td>15</td>\n",
       "      <td>0.165427</td>\n",
       "      <td>0.698140</td>\n",
       "      <td>2</td>\n",
       "      <td>...</td>\n",
       "      <td>4</td>\n",
       "      <td>2</td>\n",
       "      <td>9</td>\n",
       "      <td>2</td>\n",
       "      <td>1</td>\n",
       "      <td>1</td>\n",
       "      <td>3</td>\n",
       "      <td>0.731343</td>\n",
       "      <td>28</td>\n",
       "      <td>truthful</td>\n",
       "    </tr>\n",
       "    <tr>\n",
       "      <th>5</th>\n",
       "      <td>2020-09-11</td>\n",
       "      <td>https://www.amazon.in/Logitech-Prodigy-G213-Ga...</td>\n",
       "      <td>Only Logitech as Keyboard Ad Infinitum</td>\n",
       "      <td>Saravanan</td>\n",
       "      <td>5</td>\n",
       "      <td>Have always used a Logitech as my keyboard f...</td>\n",
       "      <td>6</td>\n",
       "      <td>0.257143</td>\n",
       "      <td>0.309524</td>\n",
       "      <td>0</td>\n",
       "      <td>...</td>\n",
       "      <td>6</td>\n",
       "      <td>2</td>\n",
       "      <td>7</td>\n",
       "      <td>1</td>\n",
       "      <td>2</td>\n",
       "      <td>1</td>\n",
       "      <td>2</td>\n",
       "      <td>0.637255</td>\n",
       "      <td>27</td>\n",
       "      <td>deceptive</td>\n",
       "    </tr>\n",
       "    <tr>\n",
       "      <th>6</th>\n",
       "      <td>2018-12-09</td>\n",
       "      <td>https://www.amazon.in/Logitech-Prodigy-G213-Ga...</td>\n",
       "      <td>Great Budget Starter Gaming Keyboard if you WA...</td>\n",
       "      <td>EvilPrakhar</td>\n",
       "      <td>4</td>\n",
       "      <td>The short review  The Logitech G     membran...</td>\n",
       "      <td>12</td>\n",
       "      <td>0.205937</td>\n",
       "      <td>0.595104</td>\n",
       "      <td>1</td>\n",
       "      <td>...</td>\n",
       "      <td>5</td>\n",
       "      <td>3</td>\n",
       "      <td>4</td>\n",
       "      <td>1</td>\n",
       "      <td>3</td>\n",
       "      <td>0</td>\n",
       "      <td>5</td>\n",
       "      <td>0.777778</td>\n",
       "      <td>23</td>\n",
       "      <td>deceptive</td>\n",
       "    </tr>\n",
       "    <tr>\n",
       "      <th>7</th>\n",
       "      <td>2019-05-09</td>\n",
       "      <td>https://www.amazon.in/Logitech-Prodigy-G213-Ga...</td>\n",
       "      <td>Best of the rest</td>\n",
       "      <td>Abhro</td>\n",
       "      <td>5</td>\n",
       "      <td>Pros  cheaper than most other high end keybo...</td>\n",
       "      <td>7</td>\n",
       "      <td>0.223333</td>\n",
       "      <td>0.601667</td>\n",
       "      <td>2</td>\n",
       "      <td>...</td>\n",
       "      <td>2</td>\n",
       "      <td>1</td>\n",
       "      <td>2</td>\n",
       "      <td>1</td>\n",
       "      <td>0</td>\n",
       "      <td>1</td>\n",
       "      <td>2</td>\n",
       "      <td>0.976744</td>\n",
       "      <td>25</td>\n",
       "      <td>truthful</td>\n",
       "    </tr>\n",
       "    <tr>\n",
       "      <th>8</th>\n",
       "      <td>2020-09-22</td>\n",
       "      <td>https://www.amazon.in/Logitech-Prodigy-G213-Ga...</td>\n",
       "      <td>Pain chipping off the keycaps  some keys are n...</td>\n",
       "      <td>Akhilesh Agarwal</td>\n",
       "      <td>1</td>\n",
       "      <td>This is a terrible product by Logitech  I am...</td>\n",
       "      <td>4</td>\n",
       "      <td>-0.351948</td>\n",
       "      <td>0.550649</td>\n",
       "      <td>5</td>\n",
       "      <td>...</td>\n",
       "      <td>4</td>\n",
       "      <td>2</td>\n",
       "      <td>7</td>\n",
       "      <td>1</td>\n",
       "      <td>2</td>\n",
       "      <td>1</td>\n",
       "      <td>7</td>\n",
       "      <td>0.675676</td>\n",
       "      <td>24</td>\n",
       "      <td>truthful</td>\n",
       "    </tr>\n",
       "    <tr>\n",
       "      <th>9</th>\n",
       "      <td>2018-11-14</td>\n",
       "      <td>https://www.amazon.in/Logitech-Prodigy-G213-Ga...</td>\n",
       "      <td>Excellent keyboard and great value for money</td>\n",
       "      <td>Faizan</td>\n",
       "      <td>5</td>\n",
       "      <td>Pros    Dedicated media keys and Windows tog...</td>\n",
       "      <td>7</td>\n",
       "      <td>0.039286</td>\n",
       "      <td>0.576190</td>\n",
       "      <td>1</td>\n",
       "      <td>...</td>\n",
       "      <td>3</td>\n",
       "      <td>2</td>\n",
       "      <td>7</td>\n",
       "      <td>2</td>\n",
       "      <td>2</td>\n",
       "      <td>1</td>\n",
       "      <td>3</td>\n",
       "      <td>0.860759</td>\n",
       "      <td>28</td>\n",
       "      <td>deceptive</td>\n",
       "    </tr>\n",
       "  </tbody>\n",
       "</table>\n",
       "<p>10 rows × 25 columns</p>\n",
       "</div>"
      ],
      "text/plain": [
       "        Date                                                URL  \\\n",
       "0 2018-08-10  https://www.amazon.in/Logitech-Prodigy-G213-Ga...   \n",
       "1 2018-03-27  https://www.amazon.in/Logitech-Prodigy-G213-Ga...   \n",
       "2 2018-12-19  https://www.amazon.in/Logitech-Prodigy-G213-Ga...   \n",
       "3 2020-06-25  https://www.amazon.in/Logitech-Prodigy-G213-Ga...   \n",
       "4 2018-10-27  https://www.amazon.in/Logitech-Prodigy-G213-Ga...   \n",
       "5 2020-09-11  https://www.amazon.in/Logitech-Prodigy-G213-Ga...   \n",
       "6 2018-12-09  https://www.amazon.in/Logitech-Prodigy-G213-Ga...   \n",
       "7 2019-05-09  https://www.amazon.in/Logitech-Prodigy-G213-Ga...   \n",
       "8 2020-09-22  https://www.amazon.in/Logitech-Prodigy-G213-Ga...   \n",
       "9 2018-11-14  https://www.amazon.in/Logitech-Prodigy-G213-Ga...   \n",
       "\n",
       "                                        Review_Title            Author  \\\n",
       "0       It s a logitech  Definitely worth buying it       Aqib Mehmood   \n",
       "1  Great deal  got it for        With Lightening ...           Chauhan   \n",
       "2                                           Loved it            Smok3y   \n",
       "3       Not a good purchase  please read description     Kumar Saharsh   \n",
       "4                                 Good only when new   Amazon Customer   \n",
       "5             Only Logitech as Keyboard Ad Infinitum         Saravanan   \n",
       "6  Great Budget Starter Gaming Keyboard if you WA...       EvilPrakhar   \n",
       "7                                 Best of the rest               Abhro   \n",
       "8  Pain chipping off the keycaps  some keys are n...  Akhilesh Agarwal   \n",
       "9       Excellent keyboard and great value for money            Faizan   \n",
       "\n",
       "   Rating                                        Review_text  Review_helpful  \\\n",
       "0       5    A really awesome keyboard  i was actually go...              77   \n",
       "1       4    I know its costly but its worth your money  ...              55   \n",
       "2       5    I had been contemplating to buy this for a l...              18   \n",
       "3       1    SO   Very very small keys  For fast typers w...              11   \n",
       "4       2    Good to use keyboard while it is new  but it...              15   \n",
       "5       5    Have always used a Logitech as my keyboard f...               6   \n",
       "6       4    The short review  The Logitech G     membran...              12   \n",
       "7       5    Pros  cheaper than most other high end keybo...               7   \n",
       "8       1    This is a terrible product by Logitech  I am...               4   \n",
       "9       5    Pros    Dedicated media keys and Windows tog...               7   \n",
       "\n",
       "   Sentiment  Subjectivity  Neg_Count  ...  Adv_Count  Pro_Count  Pre_Count  \\\n",
       "0   0.359722      0.552778          1  ...          6          4          3   \n",
       "1   0.233125      0.468542          2  ...         10          4          7   \n",
       "2   0.338750      0.568750          3  ...          3          4          7   \n",
       "3   0.139083      0.507840          3  ...          6          4          8   \n",
       "4   0.165427      0.698140          2  ...          4          2          9   \n",
       "5   0.257143      0.309524          0  ...          6          2          7   \n",
       "6   0.205937      0.595104          1  ...          5          3          4   \n",
       "7   0.223333      0.601667          2  ...          2          1          2   \n",
       "8  -0.351948      0.550649          5  ...          4          2          7   \n",
       "9   0.039286      0.576190          1  ...          3          2          7   \n",
       "\n",
       "   Con_Count  Art_Count  Nega_Count  Aux_Count  Authenticity  AT   Rev_Type  \n",
       "0          2          2           1          9      0.706522  13  deceptive  \n",
       "1          2          2           1          6      0.666667  16  deceptive  \n",
       "2          1          2           0          9      0.735294  22  deceptive  \n",
       "3          1          2           2          5      0.687500  22  deceptive  \n",
       "4          2          1           1          3      0.731343  28   truthful  \n",
       "5          1          2           1          2      0.637255  27  deceptive  \n",
       "6          1          3           0          5      0.777778  23  deceptive  \n",
       "7          1          0           1          2      0.976744  25   truthful  \n",
       "8          1          2           1          7      0.675676  24   truthful  \n",
       "9          2          2           1          3      0.860759  28  deceptive  \n",
       "\n",
       "[10 rows x 25 columns]"
      ]
     },
     "execution_count": 24,
     "metadata": {},
     "output_type": "execute_result"
    }
   ],
   "source": [
    "d1.head(10)"
   ]
  },
  {
   "cell_type": "markdown",
   "metadata": {},
   "source": [
    "# **Final Dataset**"
   ]
  },
  {
   "cell_type": "code",
   "execution_count": 25,
   "metadata": {},
   "outputs": [
    {
     "data": {
      "text/html": [
       "<div>\n",
       "<style scoped>\n",
       "    .dataframe tbody tr th:only-of-type {\n",
       "        vertical-align: middle;\n",
       "    }\n",
       "\n",
       "    .dataframe tbody tr th {\n",
       "        vertical-align: top;\n",
       "    }\n",
       "\n",
       "    .dataframe thead th {\n",
       "        text-align: right;\n",
       "    }\n",
       "</style>\n",
       "<table border=\"1\" class=\"dataframe\">\n",
       "  <thead>\n",
       "    <tr style=\"text-align: right;\">\n",
       "      <th></th>\n",
       "      <th>Rating</th>\n",
       "      <th>Review_helpful</th>\n",
       "      <th>Sentiment</th>\n",
       "      <th>Subjectivity</th>\n",
       "      <th>Neg_Count</th>\n",
       "      <th>Word_Count</th>\n",
       "      <th>Unique_words</th>\n",
       "      <th>Noun_Count</th>\n",
       "      <th>Adj_Count</th>\n",
       "      <th>Verb_Count</th>\n",
       "      <th>Adv_Count</th>\n",
       "      <th>Pro_Count</th>\n",
       "      <th>Pre_Count</th>\n",
       "      <th>Con_Count</th>\n",
       "      <th>Art_Count</th>\n",
       "      <th>Nega_Count</th>\n",
       "      <th>Aux_Count</th>\n",
       "      <th>Authenticity</th>\n",
       "      <th>AT</th>\n",
       "    </tr>\n",
       "  </thead>\n",
       "  <tbody>\n",
       "    <tr>\n",
       "      <th>count</th>\n",
       "      <td>9438.000000</td>\n",
       "      <td>9438.000000</td>\n",
       "      <td>9438.000000</td>\n",
       "      <td>9438.000000</td>\n",
       "      <td>9438.000000</td>\n",
       "      <td>9438.000000</td>\n",
       "      <td>9438.000000</td>\n",
       "      <td>9438.000000</td>\n",
       "      <td>9438.000000</td>\n",
       "      <td>9438.000000</td>\n",
       "      <td>9438.000000</td>\n",
       "      <td>9438.000000</td>\n",
       "      <td>9438.000000</td>\n",
       "      <td>9438.000000</td>\n",
       "      <td>9438.000000</td>\n",
       "      <td>9438.000000</td>\n",
       "      <td>9438.000000</td>\n",
       "      <td>9438.000000</td>\n",
       "      <td>9438.000000</td>\n",
       "    </tr>\n",
       "    <tr>\n",
       "      <th>mean</th>\n",
       "      <td>3.769337</td>\n",
       "      <td>3.508264</td>\n",
       "      <td>0.306510</td>\n",
       "      <td>0.542552</td>\n",
       "      <td>0.783535</td>\n",
       "      <td>27.711697</td>\n",
       "      <td>20.778979</td>\n",
       "      <td>6.266794</td>\n",
       "      <td>3.069718</td>\n",
       "      <td>4.079678</td>\n",
       "      <td>1.946387</td>\n",
       "      <td>0.906442</td>\n",
       "      <td>1.952320</td>\n",
       "      <td>0.612100</td>\n",
       "      <td>0.542488</td>\n",
       "      <td>0.455075</td>\n",
       "      <td>1.492159</td>\n",
       "      <td>0.910444</td>\n",
       "      <td>27.082645</td>\n",
       "    </tr>\n",
       "    <tr>\n",
       "      <th>std</th>\n",
       "      <td>1.507947</td>\n",
       "      <td>103.424278</td>\n",
       "      <td>0.399370</td>\n",
       "      <td>0.273534</td>\n",
       "      <td>1.684465</td>\n",
       "      <td>49.969030</td>\n",
       "      <td>27.810434</td>\n",
       "      <td>8.605824</td>\n",
       "      <td>4.285362</td>\n",
       "      <td>6.242920</td>\n",
       "      <td>2.960960</td>\n",
       "      <td>1.418567</td>\n",
       "      <td>2.829037</td>\n",
       "      <td>0.840892</td>\n",
       "      <td>0.794336</td>\n",
       "      <td>0.656434</td>\n",
       "      <td>2.081749</td>\n",
       "      <td>0.158209</td>\n",
       "      <td>4.359756</td>\n",
       "    </tr>\n",
       "    <tr>\n",
       "      <th>min</th>\n",
       "      <td>1.000000</td>\n",
       "      <td>0.000000</td>\n",
       "      <td>-1.000000</td>\n",
       "      <td>0.000000</td>\n",
       "      <td>0.000000</td>\n",
       "      <td>1.000000</td>\n",
       "      <td>1.000000</td>\n",
       "      <td>0.000000</td>\n",
       "      <td>0.000000</td>\n",
       "      <td>0.000000</td>\n",
       "      <td>0.000000</td>\n",
       "      <td>0.000000</td>\n",
       "      <td>0.000000</td>\n",
       "      <td>0.000000</td>\n",
       "      <td>0.000000</td>\n",
       "      <td>0.000000</td>\n",
       "      <td>0.000000</td>\n",
       "      <td>0.000000</td>\n",
       "      <td>-25.000000</td>\n",
       "    </tr>\n",
       "    <tr>\n",
       "      <th>25%</th>\n",
       "      <td>3.000000</td>\n",
       "      <td>0.000000</td>\n",
       "      <td>0.000000</td>\n",
       "      <td>0.401458</td>\n",
       "      <td>0.000000</td>\n",
       "      <td>4.000000</td>\n",
       "      <td>4.000000</td>\n",
       "      <td>1.000000</td>\n",
       "      <td>1.000000</td>\n",
       "      <td>0.000000</td>\n",
       "      <td>0.000000</td>\n",
       "      <td>0.000000</td>\n",
       "      <td>0.000000</td>\n",
       "      <td>0.000000</td>\n",
       "      <td>0.000000</td>\n",
       "      <td>0.000000</td>\n",
       "      <td>0.000000</td>\n",
       "      <td>0.815789</td>\n",
       "      <td>26.000000</td>\n",
       "    </tr>\n",
       "    <tr>\n",
       "      <th>50%</th>\n",
       "      <td>4.000000</td>\n",
       "      <td>0.000000</td>\n",
       "      <td>0.318182</td>\n",
       "      <td>0.571463</td>\n",
       "      <td>0.000000</td>\n",
       "      <td>11.000000</td>\n",
       "      <td>11.000000</td>\n",
       "      <td>3.000000</td>\n",
       "      <td>2.000000</td>\n",
       "      <td>2.000000</td>\n",
       "      <td>1.000000</td>\n",
       "      <td>0.000000</td>\n",
       "      <td>1.000000</td>\n",
       "      <td>0.000000</td>\n",
       "      <td>0.000000</td>\n",
       "      <td>0.000000</td>\n",
       "      <td>1.000000</td>\n",
       "      <td>0.968246</td>\n",
       "      <td>28.000000</td>\n",
       "    </tr>\n",
       "    <tr>\n",
       "      <th>75%</th>\n",
       "      <td>5.000000</td>\n",
       "      <td>0.000000</td>\n",
       "      <td>0.600000</td>\n",
       "      <td>0.700000</td>\n",
       "      <td>1.000000</td>\n",
       "      <td>31.000000</td>\n",
       "      <td>26.000000</td>\n",
       "      <td>8.000000</td>\n",
       "      <td>4.000000</td>\n",
       "      <td>5.000000</td>\n",
       "      <td>3.000000</td>\n",
       "      <td>1.000000</td>\n",
       "      <td>3.000000</td>\n",
       "      <td>1.000000</td>\n",
       "      <td>1.000000</td>\n",
       "      <td>1.000000</td>\n",
       "      <td>2.000000</td>\n",
       "      <td>1.000000</td>\n",
       "      <td>30.000000</td>\n",
       "    </tr>\n",
       "    <tr>\n",
       "      <th>max</th>\n",
       "      <td>5.000000</td>\n",
       "      <td>8975.000000</td>\n",
       "      <td>1.000000</td>\n",
       "      <td>1.000000</td>\n",
       "      <td>30.000000</td>\n",
       "      <td>1541.000000</td>\n",
       "      <td>490.000000</td>\n",
       "      <td>185.000000</td>\n",
       "      <td>91.000000</td>\n",
       "      <td>102.000000</td>\n",
       "      <td>48.000000</td>\n",
       "      <td>13.000000</td>\n",
       "      <td>26.000000</td>\n",
       "      <td>6.000000</td>\n",
       "      <td>3.000000</td>\n",
       "      <td>5.000000</td>\n",
       "      <td>18.000000</td>\n",
       "      <td>1.666667</td>\n",
       "      <td>36.000000</td>\n",
       "    </tr>\n",
       "  </tbody>\n",
       "</table>\n",
       "</div>"
      ],
      "text/plain": [
       "            Rating  Review_helpful    Sentiment  Subjectivity    Neg_Count  \\\n",
       "count  9438.000000     9438.000000  9438.000000   9438.000000  9438.000000   \n",
       "mean      3.769337        3.508264     0.306510      0.542552     0.783535   \n",
       "std       1.507947      103.424278     0.399370      0.273534     1.684465   \n",
       "min       1.000000        0.000000    -1.000000      0.000000     0.000000   \n",
       "25%       3.000000        0.000000     0.000000      0.401458     0.000000   \n",
       "50%       4.000000        0.000000     0.318182      0.571463     0.000000   \n",
       "75%       5.000000        0.000000     0.600000      0.700000     1.000000   \n",
       "max       5.000000     8975.000000     1.000000      1.000000    30.000000   \n",
       "\n",
       "        Word_Count  Unique_words   Noun_Count    Adj_Count   Verb_Count  \\\n",
       "count  9438.000000   9438.000000  9438.000000  9438.000000  9438.000000   \n",
       "mean     27.711697     20.778979     6.266794     3.069718     4.079678   \n",
       "std      49.969030     27.810434     8.605824     4.285362     6.242920   \n",
       "min       1.000000      1.000000     0.000000     0.000000     0.000000   \n",
       "25%       4.000000      4.000000     1.000000     1.000000     0.000000   \n",
       "50%      11.000000     11.000000     3.000000     2.000000     2.000000   \n",
       "75%      31.000000     26.000000     8.000000     4.000000     5.000000   \n",
       "max    1541.000000    490.000000   185.000000    91.000000   102.000000   \n",
       "\n",
       "         Adv_Count    Pro_Count    Pre_Count    Con_Count    Art_Count  \\\n",
       "count  9438.000000  9438.000000  9438.000000  9438.000000  9438.000000   \n",
       "mean      1.946387     0.906442     1.952320     0.612100     0.542488   \n",
       "std       2.960960     1.418567     2.829037     0.840892     0.794336   \n",
       "min       0.000000     0.000000     0.000000     0.000000     0.000000   \n",
       "25%       0.000000     0.000000     0.000000     0.000000     0.000000   \n",
       "50%       1.000000     0.000000     1.000000     0.000000     0.000000   \n",
       "75%       3.000000     1.000000     3.000000     1.000000     1.000000   \n",
       "max      48.000000    13.000000    26.000000     6.000000     3.000000   \n",
       "\n",
       "        Nega_Count    Aux_Count  Authenticity           AT  \n",
       "count  9438.000000  9438.000000   9438.000000  9438.000000  \n",
       "mean      0.455075     1.492159      0.910444    27.082645  \n",
       "std       0.656434     2.081749      0.158209     4.359756  \n",
       "min       0.000000     0.000000      0.000000   -25.000000  \n",
       "25%       0.000000     0.000000      0.815789    26.000000  \n",
       "50%       0.000000     1.000000      0.968246    28.000000  \n",
       "75%       1.000000     2.000000      1.000000    30.000000  \n",
       "max       5.000000    18.000000      1.666667    36.000000  "
      ]
     },
     "execution_count": 25,
     "metadata": {},
     "output_type": "execute_result"
    }
   ],
   "source": [
    "# Complete Summary of Dataset after cleaning\n",
    "d1.describe()"
   ]
  },
  {
   "cell_type": "code",
   "execution_count": 26,
   "metadata": {},
   "outputs": [
    {
     "data": {
      "text/plain": [
       "'  I m giving it   stars because i am in love love love with this band    it is my Very first fitness band and i am glad i took decision of buying it   it is completely worth every penny    The stress montior and sleep monitor option is amazing  i m unsure that it calculates accurate calorie but anyway   Although i bought this band directly from mi website   But just go for it  it is the best smart fitness band until mi band   is not releasing   '"
      ]
     },
     "execution_count": 26,
     "metadata": {},
     "output_type": "execute_result"
    }
   ],
   "source": [
    "d1.iloc[5000].Review_text"
   ]
  },
  {
   "cell_type": "markdown",
   "metadata": {},
   "source": [
    "**Fix Contractions**"
   ]
  },
  {
   "cell_type": "code",
   "execution_count": 27,
   "metadata": {},
   "outputs": [],
   "source": [
    "def fixContra(text):\n",
    "    return contractions.fix(text)"
   ]
  },
  {
   "cell_type": "code",
   "execution_count": 28,
   "metadata": {},
   "outputs": [],
   "source": [
    "# Removing all the contractions from reviews text, contractions include\n",
    "# you're, I'm etc.\n",
    "d1['Review_text'] = d1['Review_text'].apply(lambda x: fixContra(x))"
   ]
  },
  {
   "cell_type": "markdown",
   "metadata": {},
   "source": [
    "**Remove Special Character**"
   ]
  },
  {
   "cell_type": "code",
   "execution_count": 29,
   "metadata": {},
   "outputs": [
    {
     "name": "stderr",
     "output_type": "stream",
     "text": [
      "C:\\Users\\ASIFIQ~1\\AppData\\Local\\Temp/ipykernel_8068/2853832402.py:2: FutureWarning: The default value of regex will change from True to False in a future version.\n",
      "  d1['Review_text'] = d1['Review_text'].str.replace('\\W', ' ')\n",
      "C:\\Users\\ASIFIQ~1\\AppData\\Local\\Temp/ipykernel_8068/2853832402.py:3: FutureWarning: The default value of regex will change from True to False in a future version.\n",
      "  d1['Review_Title'] = d1['Review_Title'].str.replace('\\W', ' ')\n"
     ]
    }
   ],
   "source": [
    "# \\W represents Special characters\n",
    "d1['Review_text'] = d1['Review_text'].str.replace('\\W', ' ')\n",
    "d1['Review_Title'] = d1['Review_Title'].str.replace('\\W', ' ')\n"
   ]
  },
  {
   "cell_type": "code",
   "execution_count": 30,
   "metadata": {},
   "outputs": [
    {
     "name": "stderr",
     "output_type": "stream",
     "text": [
      "C:\\Users\\ASIFIQ~1\\AppData\\Local\\Temp/ipykernel_8068/3380175466.py:2: FutureWarning: The default value of regex will change from True to False in a future version.\n",
      "  d1['Review_text'] = d1['Review_text'].str.replace('\\d', ' ')\n",
      "C:\\Users\\ASIFIQ~1\\AppData\\Local\\Temp/ipykernel_8068/3380175466.py:3: FutureWarning: The default value of regex will change from True to False in a future version.\n",
      "  d1['Review_Title'] = d1['Review_Title'].str.replace('\\d', ' ')\n"
     ]
    }
   ],
   "source": [
    "# \\d represents Numeric digits\n",
    "d1['Review_text'] = d1['Review_text'].str.replace('\\d', ' ')\n",
    "d1['Review_Title'] = d1['Review_Title'].str.replace('\\d', ' ')"
   ]
  },
  {
   "cell_type": "markdown",
   "metadata": {},
   "source": [
    "**Upper to Lower Case**"
   ]
  },
  {
   "cell_type": "code",
   "execution_count": 31,
   "metadata": {},
   "outputs": [],
   "source": [
    "d1['Review_text'] = d1['Review_text'].str.lower()\n",
    "d1['Review_Title'] = d1['Review_Title'].str.lower()"
   ]
  },
  {
   "cell_type": "code",
   "execution_count": 32,
   "metadata": {},
   "outputs": [
    {
     "data": {
      "text/plain": [
       "0      a really awesome keyboard  i was actually go...\n",
       "1      i know its costly but its worth your money  ...\n",
       "2      i had been contemplating to buy this for a l...\n",
       "3      so   very very small keys  for fast typers w...\n",
       "4      good to use keyboard while it is new  but it...\n",
       "5      have always used a logitech as my keyboard f...\n",
       "6      the short review  the logitech g     membran...\n",
       "7      pros  cheaper than most other high end keybo...\n",
       "8      this is a terrible product by logitech  i am...\n",
       "9      pros    dedicated media keys and windows tog...\n",
       "Name: Review_text, dtype: object"
      ]
     },
     "execution_count": 32,
     "metadata": {},
     "output_type": "execute_result"
    }
   ],
   "source": [
    "d1[\"Review_text\"].head(10)"
   ]
  },
  {
   "cell_type": "code",
   "execution_count": 33,
   "metadata": {},
   "outputs": [
    {
     "data": {
      "text/plain": [
       "Date              datetime64[ns]\n",
       "URL                       object\n",
       "Review_Title              object\n",
       "Author                    object\n",
       "Rating                     int64\n",
       "Review_text               object\n",
       "Review_helpful             int64\n",
       "Sentiment                float64\n",
       "Subjectivity             float64\n",
       "Neg_Count                  int64\n",
       "Word_Count                 int64\n",
       "Unique_words               int64\n",
       "Noun_Count                 int64\n",
       "Adj_Count                  int64\n",
       "Verb_Count                 int64\n",
       "Adv_Count                  int64\n",
       "Pro_Count                  int64\n",
       "Pre_Count                  int64\n",
       "Con_Count                  int64\n",
       "Art_Count                  int64\n",
       "Nega_Count                 int64\n",
       "Aux_Count                  int64\n",
       "Authenticity             float64\n",
       "AT                         int64\n",
       "Rev_Type                  object\n",
       "dtype: object"
      ]
     },
     "execution_count": 33,
     "metadata": {},
     "output_type": "execute_result"
    }
   ],
   "source": [
    "d1.dtypes"
   ]
  },
  {
   "cell_type": "markdown",
   "metadata": {},
   "source": [
    "# **Sentiment Score Generation**"
   ]
  },
  {
   "cell_type": "markdown",
   "metadata": {},
   "source": [
    "**Visualizing the sentiment**"
   ]
  },
  {
   "cell_type": "code",
   "execution_count": 34,
   "metadata": {},
   "outputs": [
    {
     "data": {
      "image/png": "[encoded data removed]",
      "text/plain": [
       "<Figure size 720x504 with 1 Axes>"
      ]
     },
     "metadata": {},
     "output_type": "display_data"
    }
   ],
   "source": [
    "pos = 0\n",
    "neg = 0\n",
    "for score in d1['Sentiment']:\n",
    "    if score > 0:\n",
    "        pos += 1\n",
    "    elif score < 0:\n",
    "        neg += 1\n",
    "\n",
    "#Visualiing the distribution of Sentiment\n",
    "values = [pos, neg]\n",
    "label = ['Positive Reviews', 'Negative Reviews']\n",
    "\n",
    "fig = plt.figure(figsize =(10, 7)) \n",
    "plt.pie(values, labels = label)\n",
    "\n",
    "plt.show()"
   ]
  },
  {
   "cell_type": "code",
   "execution_count": 35,
   "metadata": {},
   "outputs": [],
   "source": [
    "#Number of Negative words in a review\n",
    "reviews = d1['Review_text'].tolist()\n",
    "negative_count = []\n",
    "for rev in reviews:\n",
    "    words = rev.split()\n",
    "    neg = 0\n",
    "    for w in words:\n",
    "        testimonial = TextBlob(w)\n",
    "        score = testimonial.sentiment.polarity\n",
    "        if score < 0:\n",
    "            neg += 1\n",
    "    negative_count.append(neg)"
   ]
  },
  {
   "cell_type": "code",
   "execution_count": 36,
   "metadata": {},
   "outputs": [],
   "source": [
    "d1['Neg_Count'] = negative_count"
   ]
  },
  {
   "cell_type": "markdown",
   "metadata": {},
   "source": [
    "# **Unique words count**"
   ]
  },
  {
   "cell_type": "code",
   "execution_count": 37,
   "metadata": {},
   "outputs": [],
   "source": [
    "#Word Count\n",
    "d1['Word_Count'] = d1['Review_text'].str.split().str.len()"
   ]
  },
  {
   "cell_type": "code",
   "execution_count": 38,
   "metadata": {},
   "outputs": [],
   "source": [
    "for i in range(d1.shape[0]):\n",
    "    if d1.loc[i].Word_Count == 0:\n",
    "        d1.drop(index=i, inplace=True)\n",
    "d1.reset_index(drop=True, inplace=True)"
   ]
  },
  {
   "cell_type": "code",
   "execution_count": 39,
   "metadata": {},
   "outputs": [],
   "source": [
    "reviews = d1['Review_text'].str.lower().str.split()\n",
    "\n",
    "# Get amount of unique words\n",
    "d1['Unique_words'] = reviews.apply(set).apply(len)"
   ]
  },
  {
   "cell_type": "markdown",
   "metadata": {},
   "source": [
    "# **POS - Tagging**"
   ]
  },
  {
   "cell_type": "code",
   "execution_count": 40,
   "metadata": {},
   "outputs": [
    {
     "name": "stderr",
     "output_type": "stream",
     "text": [
      "[nltk_data] Downloading package averaged_perceptron_tagger to\n",
      "[nltk_data]     C:\\Users\\Asif Iqbal\\AppData\\Roaming\\nltk_data...\n",
      "[nltk_data]   Package averaged_perceptron_tagger is already up-to-\n",
      "[nltk_data]       date!\n"
     ]
    },
    {
     "name": "stdout",
     "output_type": "stream",
     "text": [
      "Completed\n"
     ]
    }
   ],
   "source": [
    "import nltk\n",
    "nltk.download('averaged_perceptron_tagger')\n",
    "Review_text = d1.Review_text\n",
    "\n",
    "\n",
    "array_Noun = []\n",
    "array_Adj = []\n",
    "array_Verb = []\n",
    "array_Adv = []\n",
    "array_Pro = []\n",
    "array_Pre = []\n",
    "array_Con = []\n",
    "array_Art = []\n",
    "array_Nega = []\n",
    "array_Aux = []\n",
    "\n",
    "articles = ['a', 'an', 'the']\n",
    "negations = ['no', 'not', 'none', 'nobody', 'nothing', 'neither', 'nowhere', 'never', 'hardly', 'barely', 'scarcely']\n",
    "auxilliary = ['am', 'is', 'are', 'was', 'were', 'be', 'being', 'been', 'will', 'would', 'shall', 'should', 'may', 'might', 'must', 'can', 'could', 'do', 'does', 'did', 'have', 'having', 'has', 'had']\n",
    "\n",
    "for j in Review_text:\n",
    "    text = j ;\n",
    "    filter=re.sub('[^\\w\\s]', '', text)\n",
    "    conver_lower=filter.lower()\n",
    "    Tinput = conver_lower.split(\" \")\n",
    "    \n",
    "    for i in range(0, len(Tinput)):\n",
    "        Tinput[i] = \"\".join(Tinput[i])\n",
    "    UniqW = Counter(Tinput)\n",
    "    s = \" \".join(UniqW.keys())\n",
    "    \n",
    "    tokenized = sent_tokenize(s)\n",
    "    \n",
    "    for i in tokenized:\n",
    "        wordsList = nltk.word_tokenize(i)\n",
    "        #wordsList = [w for w in wordsList if not w in stop_words]\n",
    "        \n",
    "        Art = 0\n",
    "        Nega = 0\n",
    "        Aux = 0\n",
    "        for word in wordsList:\n",
    "            if word in articles:\n",
    "                Art += 1\n",
    "            elif word in negations:\n",
    "                Nega += 1\n",
    "            elif word in auxilliary:\n",
    "                Aux += 1\n",
    "                \n",
    "        tagged = nltk.pos_tag(wordsList)\n",
    "        counts = Counter(tag for word,tag in tagged)\n",
    "\n",
    "        N = sum([counts[i] for i in counts.keys() if 'NN' in i])\n",
    "        Adj = sum([counts[i] for i in counts.keys() if 'JJ' in i])\n",
    "        Verb = sum([counts[i] for i in counts.keys() if 'VB' in i])\n",
    "        Adv = sum([counts[i] for i in counts.keys() if 'RB' in i])\n",
    "        Pro = sum([counts[i] for i in counts.keys() if (('PRP' in i) or ('PRP$' in i) or ('WP' in i) or ('WP$' in i))])\n",
    "        Pre = sum([counts[i] for i in counts.keys() if 'IN' in i])\n",
    "        Con = sum([counts[i] for i in counts.keys() if 'CC' in i])\n",
    "\n",
    "        array_Noun.append(N)\n",
    "        array_Adj.append(Adj)\n",
    "        array_Verb.append(Verb)\n",
    "        array_Adv.append(Adv)\n",
    "        array_Pro.append(Pro)\n",
    "        array_Pre.append(Pre)\n",
    "        array_Con.append(Con)\n",
    "        array_Art.append(Art)\n",
    "        array_Nega.append(Nega)\n",
    "        array_Aux.append(Aux)\n",
    "print('Completed')"
   ]
  },
  {
   "cell_type": "code",
   "execution_count": 41,
   "metadata": {},
   "outputs": [],
   "source": [
    "POS = ['Noun_Count', 'Adj_Count', 'Verb_Count', 'Adv_Count', 'Pro_Count', 'Pre_Count', 'Con_Count', 'Art_Count', 'Nega_Count', 'Aux_Count']\n",
    "Values = [array_Noun, array_Adj, array_Verb, array_Adv, array_Pro, array_Pre, array_Con, array_Art, array_Nega, array_Aux]\n",
    "i = 0\n",
    "for x in POS:\n",
    "    d1[x] = pd.Series(Values[i])\n",
    "    d1[x] = d1[x].fillna(0)\n",
    "    d1[x] = d1[x].astype(float)\n",
    "    i += 1"
   ]
  },
  {
   "cell_type": "markdown",
   "metadata": {},
   "source": [
    "# **Authenticity**"
   ]
  },
  {
   "cell_type": "code",
   "execution_count": 42,
   "metadata": {},
   "outputs": [],
   "source": [
    "d1 = d1.assign(Authenticity = lambda x: (x.Pro_Count + x.Unique_words - x.Neg_Count) / x.Word_Count)"
   ]
  },
  {
   "cell_type": "code",
   "execution_count": 43,
   "metadata": {},
   "outputs": [],
   "source": [
    "d1 = d1.assign(AT = lambda x: 30 + (x.Art_Count + x.Pre_Count - x.Pro_Count - x.Aux_Count - x.Con_Count - x.Adv_Count - x.Nega_Count))"
   ]
  },
  {
   "cell_type": "markdown",
   "metadata": {},
   "source": [
    "# **Labelling the Reviews**"
   ]
  },
  {
   "cell_type": "code",
   "execution_count": 44,
   "metadata": {},
   "outputs": [],
   "source": [
    "def label(Auth, At, N, Adj, V, Av, S, Sub, W):\n",
    "    score = 0\n",
    "    if Auth >= 0.49:\n",
    "        score += 2\n",
    "    if At <= 20:\n",
    "        score += 1\n",
    "    if (N + Adj) >= (V + Av):\n",
    "        score += 1\n",
    "    if -0.5 <= S <= 0.5:\n",
    "        score += 1\n",
    "    if Sub <= 0.5:\n",
    "        score += 2\n",
    "    if W > 75:\n",
    "        score += 3\n",
    "    if score >= 5:\n",
    "        return 0\n",
    "    else:\n",
    "        return 1"
   ]
  },
  {
   "cell_type": "code",
   "execution_count": 45,
   "metadata": {},
   "outputs": [],
   "source": [
    "d1['Rev_Type'] = d1.apply(lambda x: label(x['Authenticity'], x['AT'], x['Noun_Count'], x['Adj_Count'], x['Verb_Count'], x['Adv_Count'], x['Sentiment'], x['Subjectivity'], x['Word_Count']), axis = 1)"
   ]
  },
  {
   "cell_type": "code",
   "execution_count": 46,
   "metadata": {},
   "outputs": [
    {
     "data": {
      "text/plain": [
       "1    5190\n",
       "0    4248\n",
       "Name: Rev_Type, dtype: int64"
      ]
     },
     "execution_count": 46,
     "metadata": {},
     "output_type": "execute_result"
    }
   ],
   "source": [
    "d1['Rev_Type'].value_counts()"
   ]
  },
  {
   "cell_type": "code",
   "execution_count": 47,
   "metadata": {},
   "outputs": [
    {
     "data": {
      "text/plain": [
       "array([0, 1], dtype=int64)"
      ]
     },
     "execution_count": 47,
     "metadata": {},
     "output_type": "execute_result"
    }
   ],
   "source": [
    "d1['Rev_Type'].unique()"
   ]
  },
  {
   "cell_type": "code",
   "execution_count": 48,
   "metadata": {},
   "outputs": [
    {
     "data": {
      "text/html": [
       "<div>\n",
       "<style scoped>\n",
       "    .dataframe tbody tr th:only-of-type {\n",
       "        vertical-align: middle;\n",
       "    }\n",
       "\n",
       "    .dataframe tbody tr th {\n",
       "        vertical-align: top;\n",
       "    }\n",
       "\n",
       "    .dataframe thead th {\n",
       "        text-align: right;\n",
       "    }\n",
       "</style>\n",
       "<table border=\"1\" class=\"dataframe\">\n",
       "  <thead>\n",
       "    <tr style=\"text-align: right;\">\n",
       "      <th></th>\n",
       "      <th>Date</th>\n",
       "      <th>URL</th>\n",
       "      <th>Review_Title</th>\n",
       "      <th>Author</th>\n",
       "      <th>Rating</th>\n",
       "      <th>Review_text</th>\n",
       "      <th>Review_helpful</th>\n",
       "      <th>Sentiment</th>\n",
       "      <th>Subjectivity</th>\n",
       "      <th>Neg_Count</th>\n",
       "      <th>...</th>\n",
       "      <th>Adv_Count</th>\n",
       "      <th>Pro_Count</th>\n",
       "      <th>Pre_Count</th>\n",
       "      <th>Con_Count</th>\n",
       "      <th>Art_Count</th>\n",
       "      <th>Nega_Count</th>\n",
       "      <th>Aux_Count</th>\n",
       "      <th>Authenticity</th>\n",
       "      <th>AT</th>\n",
       "      <th>Rev_Type</th>\n",
       "    </tr>\n",
       "  </thead>\n",
       "  <tbody>\n",
       "    <tr>\n",
       "      <th>0</th>\n",
       "      <td>2018-08-10</td>\n",
       "      <td>https://www.amazon.in/Logitech-Prodigy-G213-Ga...</td>\n",
       "      <td>it s a logitech  definitely worth buying it</td>\n",
       "      <td>Aqib Mehmood</td>\n",
       "      <td>5</td>\n",
       "      <td>a really awesome keyboard  i was actually go...</td>\n",
       "      <td>77</td>\n",
       "      <td>0.359722</td>\n",
       "      <td>0.552778</td>\n",
       "      <td>1</td>\n",
       "      <td>...</td>\n",
       "      <td>6.0</td>\n",
       "      <td>4.0</td>\n",
       "      <td>3.0</td>\n",
       "      <td>2.0</td>\n",
       "      <td>2.0</td>\n",
       "      <td>1.0</td>\n",
       "      <td>9.0</td>\n",
       "      <td>0.706522</td>\n",
       "      <td>13.0</td>\n",
       "      <td>0</td>\n",
       "    </tr>\n",
       "    <tr>\n",
       "      <th>1</th>\n",
       "      <td>2018-03-27</td>\n",
       "      <td>https://www.amazon.in/Logitech-Prodigy-G213-Ga...</td>\n",
       "      <td>great deal  got it for        with lightening ...</td>\n",
       "      <td>Chauhan</td>\n",
       "      <td>4</td>\n",
       "      <td>i know its costly but its worth your money  ...</td>\n",
       "      <td>55</td>\n",
       "      <td>0.233125</td>\n",
       "      <td>0.468542</td>\n",
       "      <td>2</td>\n",
       "      <td>...</td>\n",
       "      <td>10.0</td>\n",
       "      <td>4.0</td>\n",
       "      <td>7.0</td>\n",
       "      <td>2.0</td>\n",
       "      <td>2.0</td>\n",
       "      <td>1.0</td>\n",
       "      <td>6.0</td>\n",
       "      <td>0.666667</td>\n",
       "      <td>16.0</td>\n",
       "      <td>0</td>\n",
       "    </tr>\n",
       "    <tr>\n",
       "      <th>2</th>\n",
       "      <td>2018-12-19</td>\n",
       "      <td>https://www.amazon.in/Logitech-Prodigy-G213-Ga...</td>\n",
       "      <td>loved it</td>\n",
       "      <td>Smok3y</td>\n",
       "      <td>5</td>\n",
       "      <td>i had been contemplating to buy this for a l...</td>\n",
       "      <td>18</td>\n",
       "      <td>0.338750</td>\n",
       "      <td>0.568750</td>\n",
       "      <td>3</td>\n",
       "      <td>...</td>\n",
       "      <td>3.0</td>\n",
       "      <td>4.0</td>\n",
       "      <td>7.0</td>\n",
       "      <td>1.0</td>\n",
       "      <td>2.0</td>\n",
       "      <td>0.0</td>\n",
       "      <td>9.0</td>\n",
       "      <td>0.735294</td>\n",
       "      <td>22.0</td>\n",
       "      <td>0</td>\n",
       "    </tr>\n",
       "    <tr>\n",
       "      <th>3</th>\n",
       "      <td>2020-06-25</td>\n",
       "      <td>https://www.amazon.in/Logitech-Prodigy-G213-Ga...</td>\n",
       "      <td>not a good purchase  please read description</td>\n",
       "      <td>Kumar Saharsh</td>\n",
       "      <td>1</td>\n",
       "      <td>so   very very small keys  for fast typers w...</td>\n",
       "      <td>11</td>\n",
       "      <td>0.139083</td>\n",
       "      <td>0.507840</td>\n",
       "      <td>3</td>\n",
       "      <td>...</td>\n",
       "      <td>6.0</td>\n",
       "      <td>4.0</td>\n",
       "      <td>8.0</td>\n",
       "      <td>1.0</td>\n",
       "      <td>2.0</td>\n",
       "      <td>2.0</td>\n",
       "      <td>5.0</td>\n",
       "      <td>0.687500</td>\n",
       "      <td>22.0</td>\n",
       "      <td>0</td>\n",
       "    </tr>\n",
       "    <tr>\n",
       "      <th>4</th>\n",
       "      <td>2018-10-27</td>\n",
       "      <td>https://www.amazon.in/Logitech-Prodigy-G213-Ga...</td>\n",
       "      <td>good only when new</td>\n",
       "      <td>Amazon Customer</td>\n",
       "      <td>2</td>\n",
       "      <td>good to use keyboard while it is new  but it...</td>\n",
       "      <td>15</td>\n",
       "      <td>0.165427</td>\n",
       "      <td>0.698140</td>\n",
       "      <td>2</td>\n",
       "      <td>...</td>\n",
       "      <td>4.0</td>\n",
       "      <td>2.0</td>\n",
       "      <td>9.0</td>\n",
       "      <td>2.0</td>\n",
       "      <td>1.0</td>\n",
       "      <td>1.0</td>\n",
       "      <td>3.0</td>\n",
       "      <td>0.731343</td>\n",
       "      <td>28.0</td>\n",
       "      <td>1</td>\n",
       "    </tr>\n",
       "  </tbody>\n",
       "</table>\n",
       "<p>5 rows × 25 columns</p>\n",
       "</div>"
      ],
      "text/plain": [
       "        Date                                                URL  \\\n",
       "0 2018-08-10  https://www.amazon.in/Logitech-Prodigy-G213-Ga...   \n",
       "1 2018-03-27  https://www.amazon.in/Logitech-Prodigy-G213-Ga...   \n",
       "2 2018-12-19  https://www.amazon.in/Logitech-Prodigy-G213-Ga...   \n",
       "3 2020-06-25  https://www.amazon.in/Logitech-Prodigy-G213-Ga...   \n",
       "4 2018-10-27  https://www.amazon.in/Logitech-Prodigy-G213-Ga...   \n",
       "\n",
       "                                        Review_Title           Author  Rating  \\\n",
       "0       it s a logitech  definitely worth buying it      Aqib Mehmood       5   \n",
       "1  great deal  got it for        with lightening ...          Chauhan       4   \n",
       "2                                           loved it           Smok3y       5   \n",
       "3       not a good purchase  please read description    Kumar Saharsh       1   \n",
       "4                                 good only when new  Amazon Customer       2   \n",
       "\n",
       "                                         Review_text  Review_helpful  \\\n",
       "0    a really awesome keyboard  i was actually go...              77   \n",
       "1    i know its costly but its worth your money  ...              55   \n",
       "2    i had been contemplating to buy this for a l...              18   \n",
       "3    so   very very small keys  for fast typers w...              11   \n",
       "4    good to use keyboard while it is new  but it...              15   \n",
       "\n",
       "   Sentiment  Subjectivity  Neg_Count  ...  Adv_Count  Pro_Count  Pre_Count  \\\n",
       "0   0.359722      0.552778          1  ...        6.0        4.0        3.0   \n",
       "1   0.233125      0.468542          2  ...       10.0        4.0        7.0   \n",
       "2   0.338750      0.568750          3  ...        3.0        4.0        7.0   \n",
       "3   0.139083      0.507840          3  ...        6.0        4.0        8.0   \n",
       "4   0.165427      0.698140          2  ...        4.0        2.0        9.0   \n",
       "\n",
       "   Con_Count  Art_Count  Nega_Count  Aux_Count  Authenticity    AT  Rev_Type  \n",
       "0        2.0        2.0         1.0        9.0      0.706522  13.0         0  \n",
       "1        2.0        2.0         1.0        6.0      0.666667  16.0         0  \n",
       "2        1.0        2.0         0.0        9.0      0.735294  22.0         0  \n",
       "3        1.0        2.0         2.0        5.0      0.687500  22.0         0  \n",
       "4        2.0        1.0         1.0        3.0      0.731343  28.0         1  \n",
       "\n",
       "[5 rows x 25 columns]"
      ]
     },
     "execution_count": 48,
     "metadata": {},
     "output_type": "execute_result"
    }
   ],
   "source": [
    "d1.head()"
   ]
  },
  {
   "cell_type": "markdown",
   "metadata": {},
   "source": [
    "# **Model Training**"
   ]
  },
  {
   "cell_type": "code",
   "execution_count": 49,
   "metadata": {},
   "outputs": [],
   "source": [
    "df = d1.loc[:, d1.columns[4:-1]]\n",
    "df.drop(['Review_text','Neg_Count','Unique_words','Pro_Count', 'Pre_Count', 'Con_Count', 'Art_Count',\n",
    "       'Nega_Count', 'Aux_Count'], axis=1, inplace=True)"
   ]
  },
  {
   "cell_type": "code",
   "execution_count": 50,
   "metadata": {},
   "outputs": [
    {
     "data": {
      "text/html": [
       "<div>\n",
       "<style scoped>\n",
       "    .dataframe tbody tr th:only-of-type {\n",
       "        vertical-align: middle;\n",
       "    }\n",
       "\n",
       "    .dataframe tbody tr th {\n",
       "        vertical-align: top;\n",
       "    }\n",
       "\n",
       "    .dataframe thead th {\n",
       "        text-align: right;\n",
       "    }\n",
       "</style>\n",
       "<table border=\"1\" class=\"dataframe\">\n",
       "  <thead>\n",
       "    <tr style=\"text-align: right;\">\n",
       "      <th></th>\n",
       "      <th>Rating</th>\n",
       "      <th>Review_helpful</th>\n",
       "      <th>Sentiment</th>\n",
       "      <th>Subjectivity</th>\n",
       "      <th>Word_Count</th>\n",
       "      <th>Noun_Count</th>\n",
       "      <th>Adj_Count</th>\n",
       "      <th>Verb_Count</th>\n",
       "      <th>Adv_Count</th>\n",
       "      <th>Authenticity</th>\n",
       "      <th>AT</th>\n",
       "    </tr>\n",
       "  </thead>\n",
       "  <tbody>\n",
       "    <tr>\n",
       "      <th>0</th>\n",
       "      <td>5</td>\n",
       "      <td>77</td>\n",
       "      <td>0.359722</td>\n",
       "      <td>0.552778</td>\n",
       "      <td>92</td>\n",
       "      <td>16.0</td>\n",
       "      <td>11.0</td>\n",
       "      <td>14.0</td>\n",
       "      <td>6.0</td>\n",
       "      <td>0.706522</td>\n",
       "      <td>13.0</td>\n",
       "    </tr>\n",
       "    <tr>\n",
       "      <th>1</th>\n",
       "      <td>4</td>\n",
       "      <td>55</td>\n",
       "      <td>0.233125</td>\n",
       "      <td>0.468542</td>\n",
       "      <td>156</td>\n",
       "      <td>30.0</td>\n",
       "      <td>15.0</td>\n",
       "      <td>24.0</td>\n",
       "      <td>10.0</td>\n",
       "      <td>0.666667</td>\n",
       "      <td>16.0</td>\n",
       "    </tr>\n",
       "    <tr>\n",
       "      <th>2</th>\n",
       "      <td>5</td>\n",
       "      <td>18</td>\n",
       "      <td>0.338750</td>\n",
       "      <td>0.568750</td>\n",
       "      <td>102</td>\n",
       "      <td>19.0</td>\n",
       "      <td>11.0</td>\n",
       "      <td>18.0</td>\n",
       "      <td>3.0</td>\n",
       "      <td>0.735294</td>\n",
       "      <td>22.0</td>\n",
       "    </tr>\n",
       "    <tr>\n",
       "      <th>3</th>\n",
       "      <td>1</td>\n",
       "      <td>11</td>\n",
       "      <td>0.139083</td>\n",
       "      <td>0.507840</td>\n",
       "      <td>112</td>\n",
       "      <td>18.0</td>\n",
       "      <td>10.0</td>\n",
       "      <td>17.0</td>\n",
       "      <td>6.0</td>\n",
       "      <td>0.687500</td>\n",
       "      <td>22.0</td>\n",
       "    </tr>\n",
       "    <tr>\n",
       "      <th>4</th>\n",
       "      <td>2</td>\n",
       "      <td>15</td>\n",
       "      <td>0.165427</td>\n",
       "      <td>0.698140</td>\n",
       "      <td>67</td>\n",
       "      <td>8.0</td>\n",
       "      <td>9.0</td>\n",
       "      <td>9.0</td>\n",
       "      <td>4.0</td>\n",
       "      <td>0.731343</td>\n",
       "      <td>28.0</td>\n",
       "    </tr>\n",
       "    <tr>\n",
       "      <th>...</th>\n",
       "      <td>...</td>\n",
       "      <td>...</td>\n",
       "      <td>...</td>\n",
       "      <td>...</td>\n",
       "      <td>...</td>\n",
       "      <td>...</td>\n",
       "      <td>...</td>\n",
       "      <td>...</td>\n",
       "      <td>...</td>\n",
       "      <td>...</td>\n",
       "      <td>...</td>\n",
       "    </tr>\n",
       "    <tr>\n",
       "      <th>9433</th>\n",
       "      <td>5</td>\n",
       "      <td>0</td>\n",
       "      <td>0.000000</td>\n",
       "      <td>0.000000</td>\n",
       "      <td>8</td>\n",
       "      <td>2.0</td>\n",
       "      <td>0.0</td>\n",
       "      <td>2.0</td>\n",
       "      <td>0.0</td>\n",
       "      <td>1.000000</td>\n",
       "      <td>29.0</td>\n",
       "    </tr>\n",
       "    <tr>\n",
       "      <th>9434</th>\n",
       "      <td>5</td>\n",
       "      <td>0</td>\n",
       "      <td>0.400000</td>\n",
       "      <td>0.700000</td>\n",
       "      <td>14</td>\n",
       "      <td>4.0</td>\n",
       "      <td>3.0</td>\n",
       "      <td>1.0</td>\n",
       "      <td>2.0</td>\n",
       "      <td>1.071429</td>\n",
       "      <td>24.0</td>\n",
       "    </tr>\n",
       "    <tr>\n",
       "      <th>9435</th>\n",
       "      <td>5</td>\n",
       "      <td>0</td>\n",
       "      <td>1.000000</td>\n",
       "      <td>1.000000</td>\n",
       "      <td>1</td>\n",
       "      <td>1.0</td>\n",
       "      <td>0.0</td>\n",
       "      <td>0.0</td>\n",
       "      <td>0.0</td>\n",
       "      <td>1.000000</td>\n",
       "      <td>30.0</td>\n",
       "    </tr>\n",
       "    <tr>\n",
       "      <th>9436</th>\n",
       "      <td>4</td>\n",
       "      <td>0</td>\n",
       "      <td>0.600000</td>\n",
       "      <td>0.800000</td>\n",
       "      <td>3</td>\n",
       "      <td>1.0</td>\n",
       "      <td>0.0</td>\n",
       "      <td>1.0</td>\n",
       "      <td>0.0</td>\n",
       "      <td>1.000000</td>\n",
       "      <td>30.0</td>\n",
       "    </tr>\n",
       "    <tr>\n",
       "      <th>9437</th>\n",
       "      <td>4</td>\n",
       "      <td>0</td>\n",
       "      <td>0.633333</td>\n",
       "      <td>0.366667</td>\n",
       "      <td>8</td>\n",
       "      <td>3.0</td>\n",
       "      <td>2.0</td>\n",
       "      <td>0.0</td>\n",
       "      <td>0.0</td>\n",
       "      <td>0.875000</td>\n",
       "      <td>32.0</td>\n",
       "    </tr>\n",
       "  </tbody>\n",
       "</table>\n",
       "<p>9438 rows × 11 columns</p>\n",
       "</div>"
      ],
      "text/plain": [
       "      Rating  Review_helpful  Sentiment  Subjectivity  Word_Count  Noun_Count  \\\n",
       "0          5              77   0.359722      0.552778          92        16.0   \n",
       "1          4              55   0.233125      0.468542         156        30.0   \n",
       "2          5              18   0.338750      0.568750         102        19.0   \n",
       "3          1              11   0.139083      0.507840         112        18.0   \n",
       "4          2              15   0.165427      0.698140          67         8.0   \n",
       "...      ...             ...        ...           ...         ...         ...   \n",
       "9433       5               0   0.000000      0.000000           8         2.0   \n",
       "9434       5               0   0.400000      0.700000          14         4.0   \n",
       "9435       5               0   1.000000      1.000000           1         1.0   \n",
       "9436       4               0   0.600000      0.800000           3         1.0   \n",
       "9437       4               0   0.633333      0.366667           8         3.0   \n",
       "\n",
       "      Adj_Count  Verb_Count  Adv_Count  Authenticity    AT  \n",
       "0          11.0        14.0        6.0      0.706522  13.0  \n",
       "1          15.0        24.0       10.0      0.666667  16.0  \n",
       "2          11.0        18.0        3.0      0.735294  22.0  \n",
       "3          10.0        17.0        6.0      0.687500  22.0  \n",
       "4           9.0         9.0        4.0      0.731343  28.0  \n",
       "...         ...         ...        ...           ...   ...  \n",
       "9433        0.0         2.0        0.0      1.000000  29.0  \n",
       "9434        3.0         1.0        2.0      1.071429  24.0  \n",
       "9435        0.0         0.0        0.0      1.000000  30.0  \n",
       "9436        0.0         1.0        0.0      1.000000  30.0  \n",
       "9437        2.0         0.0        0.0      0.875000  32.0  \n",
       "\n",
       "[9438 rows x 11 columns]"
      ]
     },
     "execution_count": 50,
     "metadata": {},
     "output_type": "execute_result"
    }
   ],
   "source": [
    "df"
   ]
  },
  {
   "cell_type": "code",
   "execution_count": 51,
   "metadata": {},
   "outputs": [],
   "source": [
    "min_max_scaler = preprocessing.MinMaxScaler()\n",
    "Columns=df.columns\n",
    "df[Columns] = min_max_scaler.fit_transform(df[Columns])"
   ]
  },
  {
   "cell_type": "code",
   "execution_count": 52,
   "metadata": {},
   "outputs": [
    {
     "data": {
      "text/html": [
       "<div>\n",
       "<style scoped>\n",
       "    .dataframe tbody tr th:only-of-type {\n",
       "        vertical-align: middle;\n",
       "    }\n",
       "\n",
       "    .dataframe tbody tr th {\n",
       "        vertical-align: top;\n",
       "    }\n",
       "\n",
       "    .dataframe thead th {\n",
       "        text-align: right;\n",
       "    }\n",
       "</style>\n",
       "<table border=\"1\" class=\"dataframe\">\n",
       "  <thead>\n",
       "    <tr style=\"text-align: right;\">\n",
       "      <th></th>\n",
       "      <th>Rating</th>\n",
       "      <th>Review_helpful</th>\n",
       "      <th>Sentiment</th>\n",
       "      <th>Subjectivity</th>\n",
       "      <th>Word_Count</th>\n",
       "      <th>Noun_Count</th>\n",
       "      <th>Adj_Count</th>\n",
       "      <th>Verb_Count</th>\n",
       "      <th>Adv_Count</th>\n",
       "      <th>Authenticity</th>\n",
       "      <th>AT</th>\n",
       "    </tr>\n",
       "  </thead>\n",
       "  <tbody>\n",
       "    <tr>\n",
       "      <th>0</th>\n",
       "      <td>1.00</td>\n",
       "      <td>0.008579</td>\n",
       "      <td>0.679861</td>\n",
       "      <td>0.552778</td>\n",
       "      <td>0.059091</td>\n",
       "      <td>0.086486</td>\n",
       "      <td>0.120879</td>\n",
       "      <td>0.137255</td>\n",
       "      <td>0.125000</td>\n",
       "      <td>0.423913</td>\n",
       "      <td>0.622951</td>\n",
       "    </tr>\n",
       "    <tr>\n",
       "      <th>1</th>\n",
       "      <td>0.75</td>\n",
       "      <td>0.006128</td>\n",
       "      <td>0.616563</td>\n",
       "      <td>0.468542</td>\n",
       "      <td>0.100649</td>\n",
       "      <td>0.162162</td>\n",
       "      <td>0.164835</td>\n",
       "      <td>0.235294</td>\n",
       "      <td>0.208333</td>\n",
       "      <td>0.400000</td>\n",
       "      <td>0.672131</td>\n",
       "    </tr>\n",
       "    <tr>\n",
       "      <th>2</th>\n",
       "      <td>1.00</td>\n",
       "      <td>0.002006</td>\n",
       "      <td>0.669375</td>\n",
       "      <td>0.568750</td>\n",
       "      <td>0.065584</td>\n",
       "      <td>0.102703</td>\n",
       "      <td>0.120879</td>\n",
       "      <td>0.176471</td>\n",
       "      <td>0.062500</td>\n",
       "      <td>0.441176</td>\n",
       "      <td>0.770492</td>\n",
       "    </tr>\n",
       "    <tr>\n",
       "      <th>3</th>\n",
       "      <td>0.00</td>\n",
       "      <td>0.001226</td>\n",
       "      <td>0.569541</td>\n",
       "      <td>0.507840</td>\n",
       "      <td>0.072078</td>\n",
       "      <td>0.097297</td>\n",
       "      <td>0.109890</td>\n",
       "      <td>0.166667</td>\n",
       "      <td>0.125000</td>\n",
       "      <td>0.412500</td>\n",
       "      <td>0.770492</td>\n",
       "    </tr>\n",
       "    <tr>\n",
       "      <th>4</th>\n",
       "      <td>0.25</td>\n",
       "      <td>0.001671</td>\n",
       "      <td>0.582713</td>\n",
       "      <td>0.698140</td>\n",
       "      <td>0.042857</td>\n",
       "      <td>0.043243</td>\n",
       "      <td>0.098901</td>\n",
       "      <td>0.088235</td>\n",
       "      <td>0.083333</td>\n",
       "      <td>0.438806</td>\n",
       "      <td>0.868852</td>\n",
       "    </tr>\n",
       "    <tr>\n",
       "      <th>...</th>\n",
       "      <td>...</td>\n",
       "      <td>...</td>\n",
       "      <td>...</td>\n",
       "      <td>...</td>\n",
       "      <td>...</td>\n",
       "      <td>...</td>\n",
       "      <td>...</td>\n",
       "      <td>...</td>\n",
       "      <td>...</td>\n",
       "      <td>...</td>\n",
       "      <td>...</td>\n",
       "    </tr>\n",
       "    <tr>\n",
       "      <th>9433</th>\n",
       "      <td>1.00</td>\n",
       "      <td>0.000000</td>\n",
       "      <td>0.500000</td>\n",
       "      <td>0.000000</td>\n",
       "      <td>0.004545</td>\n",
       "      <td>0.010811</td>\n",
       "      <td>0.000000</td>\n",
       "      <td>0.019608</td>\n",
       "      <td>0.000000</td>\n",
       "      <td>0.600000</td>\n",
       "      <td>0.885246</td>\n",
       "    </tr>\n",
       "    <tr>\n",
       "      <th>9434</th>\n",
       "      <td>1.00</td>\n",
       "      <td>0.000000</td>\n",
       "      <td>0.700000</td>\n",
       "      <td>0.700000</td>\n",
       "      <td>0.008442</td>\n",
       "      <td>0.021622</td>\n",
       "      <td>0.032967</td>\n",
       "      <td>0.009804</td>\n",
       "      <td>0.041667</td>\n",
       "      <td>0.642857</td>\n",
       "      <td>0.803279</td>\n",
       "    </tr>\n",
       "    <tr>\n",
       "      <th>9435</th>\n",
       "      <td>1.00</td>\n",
       "      <td>0.000000</td>\n",
       "      <td>1.000000</td>\n",
       "      <td>1.000000</td>\n",
       "      <td>0.000000</td>\n",
       "      <td>0.005405</td>\n",
       "      <td>0.000000</td>\n",
       "      <td>0.000000</td>\n",
       "      <td>0.000000</td>\n",
       "      <td>0.600000</td>\n",
       "      <td>0.901639</td>\n",
       "    </tr>\n",
       "    <tr>\n",
       "      <th>9436</th>\n",
       "      <td>0.75</td>\n",
       "      <td>0.000000</td>\n",
       "      <td>0.800000</td>\n",
       "      <td>0.800000</td>\n",
       "      <td>0.001299</td>\n",
       "      <td>0.005405</td>\n",
       "      <td>0.000000</td>\n",
       "      <td>0.009804</td>\n",
       "      <td>0.000000</td>\n",
       "      <td>0.600000</td>\n",
       "      <td>0.901639</td>\n",
       "    </tr>\n",
       "    <tr>\n",
       "      <th>9437</th>\n",
       "      <td>0.75</td>\n",
       "      <td>0.000000</td>\n",
       "      <td>0.816667</td>\n",
       "      <td>0.366667</td>\n",
       "      <td>0.004545</td>\n",
       "      <td>0.016216</td>\n",
       "      <td>0.021978</td>\n",
       "      <td>0.000000</td>\n",
       "      <td>0.000000</td>\n",
       "      <td>0.525000</td>\n",
       "      <td>0.934426</td>\n",
       "    </tr>\n",
       "  </tbody>\n",
       "</table>\n",
       "<p>9438 rows × 11 columns</p>\n",
       "</div>"
      ],
      "text/plain": [
       "      Rating  Review_helpful  Sentiment  Subjectivity  Word_Count  Noun_Count  \\\n",
       "0       1.00        0.008579   0.679861      0.552778    0.059091    0.086486   \n",
       "1       0.75        0.006128   0.616563      0.468542    0.100649    0.162162   \n",
       "2       1.00        0.002006   0.669375      0.568750    0.065584    0.102703   \n",
       "3       0.00        0.001226   0.569541      0.507840    0.072078    0.097297   \n",
       "4       0.25        0.001671   0.582713      0.698140    0.042857    0.043243   \n",
       "...      ...             ...        ...           ...         ...         ...   \n",
       "9433    1.00        0.000000   0.500000      0.000000    0.004545    0.010811   \n",
       "9434    1.00        0.000000   0.700000      0.700000    0.008442    0.021622   \n",
       "9435    1.00        0.000000   1.000000      1.000000    0.000000    0.005405   \n",
       "9436    0.75        0.000000   0.800000      0.800000    0.001299    0.005405   \n",
       "9437    0.75        0.000000   0.816667      0.366667    0.004545    0.016216   \n",
       "\n",
       "      Adj_Count  Verb_Count  Adv_Count  Authenticity        AT  \n",
       "0      0.120879    0.137255   0.125000      0.423913  0.622951  \n",
       "1      0.164835    0.235294   0.208333      0.400000  0.672131  \n",
       "2      0.120879    0.176471   0.062500      0.441176  0.770492  \n",
       "3      0.109890    0.166667   0.125000      0.412500  0.770492  \n",
       "4      0.098901    0.088235   0.083333      0.438806  0.868852  \n",
       "...         ...         ...        ...           ...       ...  \n",
       "9433   0.000000    0.019608   0.000000      0.600000  0.885246  \n",
       "9434   0.032967    0.009804   0.041667      0.642857  0.803279  \n",
       "9435   0.000000    0.000000   0.000000      0.600000  0.901639  \n",
       "9436   0.000000    0.009804   0.000000      0.600000  0.901639  \n",
       "9437   0.021978    0.000000   0.000000      0.525000  0.934426  \n",
       "\n",
       "[9438 rows x 11 columns]"
      ]
     },
     "execution_count": 52,
     "metadata": {},
     "output_type": "execute_result"
    }
   ],
   "source": [
    "df"
   ]
  },
  {
   "cell_type": "code",
   "execution_count": 53,
   "metadata": {},
   "outputs": [],
   "source": [
    "# Converting Dataset into 'x' all features of dataset\n",
    "# 'y' all labels\n",
    "# NOTE:- Labels will be converted into Categorical Labelled data i.e. (0 or 1)\n",
    "# Training Dataset Size: 70% -------- Test Dataset Size: 30%\n",
    "x,y = df, d1['Rev_Type']\n",
    "RAN_STATE = 42\n",
    "X_train, X_test, y_train, y_test = train_test_split(x, y, test_size=0.3, random_state=RAN_STATE)"
   ]
  },
  {
   "cell_type": "markdown",
   "metadata": {},
   "source": [
    "**HyperParameter Tuning**"
   ]
  },
  {
   "cell_type": "code",
   "execution_count": 54,
   "metadata": {},
   "outputs": [
    {
     "name": "stdout",
     "output_type": "stream",
     "text": [
      "Fitting grid search...\n",
      "Grid search fitted.\n"
     ]
    }
   ],
   "source": [
    "#Adaboost\n",
    "param_grid = {\"base_estimator__criterion\" : [\"gini\", \"entropy\"],\n",
    "              \"base_estimator__splitter\" :   [\"best\", \"random\"],\n",
    "              \"n_estimators\": [1, 2]\n",
    "             }\n",
    "\n",
    "DTC = DecisionTreeClassifier(random_state = 11, max_features = \"auto\", class_weight = \"balanced\",max_depth = None)\n",
    "\n",
    "ABC = AdaBoostClassifier(base_estimator = DTC)\n",
    "\n",
    "# run grid search\n",
    "gs1 = GridSearchCV(\n",
    "                    estimator=ABC, \n",
    "                    param_grid=param_grid, \n",
    "                    scoring = 'roc_auc')\n",
    "print ('Fitting grid search...')\n",
    "gs1.fit(X_train,y_train)\n",
    "print (\"Grid search fitted.\")"
   ]
  },
  {
   "cell_type": "code",
   "execution_count": 55,
   "metadata": {},
   "outputs": [
    {
     "data": {
      "image/png": "[encoded data removed]",
      "text/plain": [
       "<Figure size 432x288 with 1 Axes>"
      ]
     },
     "metadata": {
      "needs_background": "light"
     },
     "output_type": "display_data"
    }
   ],
   "source": [
    "from sklearn.metrics import plot_roc_curve\n",
    "ax = plt.gca()\n",
    "rfc_disp = plot_roc_curve(gs1, X_test, y_test, ax=ax, alpha=0.8)\n",
    "rfc_disp.plot(ax=ax, alpha=0.8)\n",
    "plt.show()"
   ]
  },
  {
   "cell_type": "code",
   "execution_count": 56,
   "metadata": {},
   "outputs": [
    {
     "name": "stdout",
     "output_type": "stream",
     "text": [
      "Fitting grid search...\n",
      "Fitting 2 folds for each of 288 candidates, totalling 576 fits\n",
      "Grid search fitted.\n"
     ]
    }
   ],
   "source": [
    "#RandomForest\n",
    "param_grid = {\n",
    "'bootstrap': [True],\n",
    "'max_depth': [80, 90, 100, 110],\n",
    "'max_features': [2,3],\n",
    "'min_samples_leaf': [2,3,4],\n",
    "'min_samples_split': [2, 5, 10],\n",
    "'n_estimators': [100, 200, 300, 1000]\n",
    "}\n",
    "\n",
    "gs2 = GridSearchCV(\n",
    "    estimator=RandomForestClassifier(random_state=42),\n",
    "    param_grid=param_grid,\n",
    "    cv=StratifiedKFold(n_splits=2),\n",
    "    scoring='roc_auc',\n",
    "    n_jobs = -1, \n",
    "    verbose = 2\n",
    ")\n",
    "\n",
    "print ('Fitting grid search...')\n",
    "gs2.fit(X_train,y_train)\n",
    "print (\"Grid search fitted.\")"
   ]
  },
  {
   "cell_type": "code",
   "execution_count": 57,
   "metadata": {},
   "outputs": [
    {
     "data": {
      "image/png": "[encoded data removed]",
      "text/plain": [
       "<Figure size 432x288 with 1 Axes>"
      ]
     },
     "metadata": {
      "needs_background": "light"
     },
     "output_type": "display_data"
    }
   ],
   "source": [
    "ax = plt.gca()\n",
    "rfc_disp = plot_roc_curve(gs2, X_test, y_test, ax=ax, alpha=0.8)\n",
    "rfc_disp.plot(ax=ax, alpha=0.8)\n",
    "plt.show()"
   ]
  },
  {
   "cell_type": "code",
   "execution_count": 58,
   "metadata": {},
   "outputs": [
    {
     "name": "stdout",
     "output_type": "stream",
     "text": [
      "Fitting grid search...\n",
      "Grid search fitted.\n"
     ]
    }
   ],
   "source": [
    "#Logistic Regression\n",
    "gs3 = GridSearchCV(\n",
    "    estimator=LogisticRegression(max_iter=1000),\n",
    "    param_grid={'C': [10**i for i in range(-5,5)], 'class_weight': [None, 'balanced']},\n",
    "    cv=StratifiedKFold(n_splits=5),\n",
    "    scoring='roc_auc'\n",
    ")\n",
    "\n",
    "#fit the grid search object to our new dataset\n",
    "print ('Fitting grid search...')\n",
    "gs3.fit(X_train, y_train)\n",
    "print (\"Grid search fitted.\")"
   ]
  },
  {
   "cell_type": "code",
   "execution_count": 59,
   "metadata": {},
   "outputs": [
    {
     "data": {
      "image/png": "[encoded data removed]",
      "text/plain": [
       "<Figure size 432x288 with 1 Axes>"
      ]
     },
     "metadata": {
      "needs_background": "light"
     },
     "output_type": "display_data"
    }
   ],
   "source": [
    "ax = plt.gca()\n",
    "rfc_disp = plot_roc_curve(gs3, X_test, y_test, ax=ax, alpha=0.8)\n",
    "rfc_disp.plot(ax=ax, alpha=0.8)\n",
    "plt.show()"
   ]
  },
  {
   "cell_type": "code",
   "execution_count": 60,
   "metadata": {},
   "outputs": [
    {
     "name": "stdout",
     "output_type": "stream",
     "text": [
      "Fitting grid search...\n",
      "Fitting 5 folds for each of 25 candidates, totalling 125 fits\n",
      "[CV 1/5] END ........C=0.1, gamma=1, kernel=rbf;, score=0.944 total time=   1.2s\n",
      "[CV 2/5] END ........C=0.1, gamma=1, kernel=rbf;, score=0.937 total time=   0.9s\n",
      "[CV 3/5] END ........C=0.1, gamma=1, kernel=rbf;, score=0.928 total time=   0.9s\n",
      "[CV 4/5] END ........C=0.1, gamma=1, kernel=rbf;, score=0.950 total time=   0.9s\n",
      "[CV 5/5] END ........C=0.1, gamma=1, kernel=rbf;, score=0.939 total time=   0.8s\n",
      "[CV 1/5] END ......C=0.1, gamma=0.1, kernel=rbf;, score=0.914 total time=   1.7s\n",
      "[CV 2/5] END ......C=0.1, gamma=0.1, kernel=rbf;, score=0.906 total time=   1.7s\n",
      "[CV 3/5] END ......C=0.1, gamma=0.1, kernel=rbf;, score=0.891 total time=   1.6s\n",
      "[CV 4/5] END ......C=0.1, gamma=0.1, kernel=rbf;, score=0.916 total time=   1.7s\n",
      "[CV 5/5] END ......C=0.1, gamma=0.1, kernel=rbf;, score=0.897 total time=   1.6s\n",
      "[CV 1/5] END .....C=0.1, gamma=0.01, kernel=rbf;, score=0.761 total time=   2.8s\n",
      "[CV 2/5] END .....C=0.1, gamma=0.01, kernel=rbf;, score=0.791 total time=   2.7s\n",
      "[CV 3/5] END .....C=0.1, gamma=0.01, kernel=rbf;, score=0.765 total time=   2.9s\n",
      "[CV 4/5] END .....C=0.1, gamma=0.01, kernel=rbf;, score=0.787 total time=   2.9s\n",
      "[CV 5/5] END .....C=0.1, gamma=0.01, kernel=rbf;, score=0.768 total time=   3.1s\n",
      "[CV 1/5] END ....C=0.1, gamma=0.001, kernel=rbf;, score=0.553 total time=   3.1s\n",
      "[CV 2/5] END ....C=0.1, gamma=0.001, kernel=rbf;, score=0.553 total time=   2.9s\n",
      "[CV 3/5] END ....C=0.1, gamma=0.001, kernel=rbf;, score=0.553 total time=   2.7s\n",
      "[CV 4/5] END ....C=0.1, gamma=0.001, kernel=rbf;, score=0.553 total time=   2.7s\n",
      "[CV 5/5] END ....C=0.1, gamma=0.001, kernel=rbf;, score=0.553 total time=   2.8s\n",
      "[CV 1/5] END ...C=0.1, gamma=0.0001, kernel=rbf;, score=0.553 total time=   2.7s\n",
      "[CV 2/5] END ...C=0.1, gamma=0.0001, kernel=rbf;, score=0.553 total time=   3.0s\n",
      "[CV 3/5] END ...C=0.1, gamma=0.0001, kernel=rbf;, score=0.553 total time=   2.8s\n",
      "[CV 4/5] END ...C=0.1, gamma=0.0001, kernel=rbf;, score=0.553 total time=   2.7s\n",
      "[CV 5/5] END ...C=0.1, gamma=0.0001, kernel=rbf;, score=0.553 total time=   2.8s\n",
      "[CV 1/5] END ..........C=1, gamma=1, kernel=rbf;, score=0.957 total time=   0.5s\n",
      "[CV 2/5] END ..........C=1, gamma=1, kernel=rbf;, score=0.958 total time=   0.5s\n",
      "[CV 3/5] END ..........C=1, gamma=1, kernel=rbf;, score=0.949 total time=   0.5s\n",
      "[CV 4/5] END ..........C=1, gamma=1, kernel=rbf;, score=0.964 total time=   0.5s\n",
      "[CV 5/5] END ..........C=1, gamma=1, kernel=rbf;, score=0.957 total time=   0.5s\n",
      "[CV 1/5] END ........C=1, gamma=0.1, kernel=rbf;, score=0.946 total time=   0.8s\n",
      "[CV 2/5] END ........C=1, gamma=0.1, kernel=rbf;, score=0.936 total time=   0.8s\n",
      "[CV 3/5] END ........C=1, gamma=0.1, kernel=rbf;, score=0.929 total time=   0.8s\n",
      "[CV 4/5] END ........C=1, gamma=0.1, kernel=rbf;, score=0.940 total time=   0.8s\n",
      "[CV 5/5] END ........C=1, gamma=0.1, kernel=rbf;, score=0.933 total time=   0.9s\n",
      "[CV 1/5] END .......C=1, gamma=0.01, kernel=rbf;, score=0.915 total time=   1.7s\n",
      "[CV 2/5] END .......C=1, gamma=0.01, kernel=rbf;, score=0.907 total time=   1.7s\n",
      "[CV 3/5] END .......C=1, gamma=0.01, kernel=rbf;, score=0.892 total time=   1.7s\n",
      "[CV 4/5] END .......C=1, gamma=0.01, kernel=rbf;, score=0.916 total time=   1.6s\n",
      "[CV 5/5] END .......C=1, gamma=0.01, kernel=rbf;, score=0.898 total time=   1.7s\n",
      "[CV 1/5] END ......C=1, gamma=0.001, kernel=rbf;, score=0.764 total time=   2.7s\n",
      "[CV 2/5] END ......C=1, gamma=0.001, kernel=rbf;, score=0.792 total time=   2.7s\n",
      "[CV 3/5] END ......C=1, gamma=0.001, kernel=rbf;, score=0.765 total time=   2.7s\n",
      "[CV 4/5] END ......C=1, gamma=0.001, kernel=rbf;, score=0.788 total time=   2.6s\n",
      "[CV 5/5] END ......C=1, gamma=0.001, kernel=rbf;, score=0.768 total time=   2.6s\n",
      "[CV 1/5] END .....C=1, gamma=0.0001, kernel=rbf;, score=0.553 total time=   2.7s\n",
      "[CV 2/5] END .....C=1, gamma=0.0001, kernel=rbf;, score=0.553 total time=   2.8s\n",
      "[CV 3/5] END .....C=1, gamma=0.0001, kernel=rbf;, score=0.553 total time=   2.8s\n",
      "[CV 4/5] END .....C=1, gamma=0.0001, kernel=rbf;, score=0.553 total time=   2.8s\n",
      "[CV 5/5] END .....C=1, gamma=0.0001, kernel=rbf;, score=0.553 total time=   2.7s\n",
      "[CV 1/5] END .........C=10, gamma=1, kernel=rbf;, score=0.976 total time=   0.3s\n",
      "[CV 2/5] END .........C=10, gamma=1, kernel=rbf;, score=0.966 total time=   0.3s\n",
      "[CV 3/5] END .........C=10, gamma=1, kernel=rbf;, score=0.964 total time=   0.3s\n",
      "[CV 4/5] END .........C=10, gamma=1, kernel=rbf;, score=0.976 total time=   0.4s\n",
      "[CV 5/5] END .........C=10, gamma=1, kernel=rbf;, score=0.975 total time=   0.3s\n",
      "[CV 1/5] END .......C=10, gamma=0.1, kernel=rbf;, score=0.946 total time=   0.5s\n",
      "[CV 2/5] END .......C=10, gamma=0.1, kernel=rbf;, score=0.944 total time=   0.5s\n",
      "[CV 3/5] END .......C=10, gamma=0.1, kernel=rbf;, score=0.932 total time=   0.5s\n",
      "[CV 4/5] END .......C=10, gamma=0.1, kernel=rbf;, score=0.946 total time=   0.5s\n",
      "[CV 5/5] END .......C=10, gamma=0.1, kernel=rbf;, score=0.947 total time=   0.5s\n",
      "[CV 1/5] END ......C=10, gamma=0.01, kernel=rbf;, score=0.946 total time=   0.8s\n",
      "[CV 2/5] END ......C=10, gamma=0.01, kernel=rbf;, score=0.932 total time=   0.8s\n",
      "[CV 3/5] END ......C=10, gamma=0.01, kernel=rbf;, score=0.928 total time=   0.8s\n",
      "[CV 4/5] END ......C=10, gamma=0.01, kernel=rbf;, score=0.939 total time=   0.8s\n",
      "[CV 5/5] END ......C=10, gamma=0.01, kernel=rbf;, score=0.933 total time=   0.8s\n",
      "[CV 1/5] END .....C=10, gamma=0.001, kernel=rbf;, score=0.914 total time=   1.6s\n",
      "[CV 2/5] END .....C=10, gamma=0.001, kernel=rbf;, score=0.906 total time=   1.7s\n",
      "[CV 3/5] END .....C=10, gamma=0.001, kernel=rbf;, score=0.893 total time=   1.6s\n",
      "[CV 4/5] END .....C=10, gamma=0.001, kernel=rbf;, score=0.916 total time=   1.6s\n",
      "[CV 5/5] END .....C=10, gamma=0.001, kernel=rbf;, score=0.898 total time=   1.6s\n",
      "[CV 1/5] END ....C=10, gamma=0.0001, kernel=rbf;, score=0.764 total time=   2.7s\n",
      "[CV 2/5] END ....C=10, gamma=0.0001, kernel=rbf;, score=0.792 total time=   2.7s\n",
      "[CV 3/5] END ....C=10, gamma=0.0001, kernel=rbf;, score=0.765 total time=   2.7s\n",
      "[CV 4/5] END ....C=10, gamma=0.0001, kernel=rbf;, score=0.788 total time=   2.7s\n",
      "[CV 5/5] END ....C=10, gamma=0.0001, kernel=rbf;, score=0.768 total time=   2.9s\n",
      "[CV 1/5] END ........C=100, gamma=1, kernel=rbf;, score=0.983 total time=   0.3s\n",
      "[CV 2/5] END ........C=100, gamma=1, kernel=rbf;, score=0.973 total time=   0.3s\n",
      "[CV 3/5] END ........C=100, gamma=1, kernel=rbf;, score=0.977 total time=   0.2s\n",
      "[CV 4/5] END ........C=100, gamma=1, kernel=rbf;, score=0.980 total time=   0.3s\n",
      "[CV 5/5] END ........C=100, gamma=1, kernel=rbf;, score=0.980 total time=   0.3s\n",
      "[CV 1/5] END ......C=100, gamma=0.1, kernel=rbf;, score=0.955 total time=   0.4s\n",
      "[CV 2/5] END ......C=100, gamma=0.1, kernel=rbf;, score=0.954 total time=   0.4s\n",
      "[CV 3/5] END ......C=100, gamma=0.1, kernel=rbf;, score=0.949 total time=   0.4s\n",
      "[CV 4/5] END ......C=100, gamma=0.1, kernel=rbf;, score=0.964 total time=   0.4s\n",
      "[CV 5/5] END ......C=100, gamma=0.1, kernel=rbf;, score=0.958 total time=   0.4s\n",
      "[CV 1/5] END .....C=100, gamma=0.01, kernel=rbf;, score=0.945 total time=   0.5s\n",
      "[CV 2/5] END .....C=100, gamma=0.01, kernel=rbf;, score=0.944 total time=   0.5s\n",
      "[CV 3/5] END .....C=100, gamma=0.01, kernel=rbf;, score=0.930 total time=   0.5s\n",
      "[CV 4/5] END .....C=100, gamma=0.01, kernel=rbf;, score=0.945 total time=   0.5s\n",
      "[CV 5/5] END .....C=100, gamma=0.01, kernel=rbf;, score=0.944 total time=   0.5s\n",
      "[CV 1/5] END ....C=100, gamma=0.001, kernel=rbf;, score=0.946 total time=   0.8s\n",
      "[CV 2/5] END ....C=100, gamma=0.001, kernel=rbf;, score=0.932 total time=   0.8s\n",
      "[CV 3/5] END ....C=100, gamma=0.001, kernel=rbf;, score=0.928 total time=   0.8s\n",
      "[CV 4/5] END ....C=100, gamma=0.001, kernel=rbf;, score=0.938 total time=   0.8s\n",
      "[CV 5/5] END ....C=100, gamma=0.001, kernel=rbf;, score=0.933 total time=   0.8s\n",
      "[CV 1/5] END ...C=100, gamma=0.0001, kernel=rbf;, score=0.914 total time=   1.6s\n",
      "[CV 2/5] END ...C=100, gamma=0.0001, kernel=rbf;, score=0.906 total time=   1.6s\n",
      "[CV 3/5] END ...C=100, gamma=0.0001, kernel=rbf;, score=0.893 total time=   1.6s\n",
      "[CV 4/5] END ...C=100, gamma=0.0001, kernel=rbf;, score=0.916 total time=   1.7s\n",
      "[CV 5/5] END ...C=100, gamma=0.0001, kernel=rbf;, score=0.897 total time=   1.7s\n",
      "[CV 1/5] END .......C=1000, gamma=1, kernel=rbf;, score=0.985 total time=   0.4s\n",
      "[CV 2/5] END .......C=1000, gamma=1, kernel=rbf;, score=0.981 total time=   0.4s\n",
      "[CV 3/5] END .......C=1000, gamma=1, kernel=rbf;, score=0.978 total time=   0.3s\n",
      "[CV 4/5] END .......C=1000, gamma=1, kernel=rbf;, score=0.984 total time=   0.4s\n",
      "[CV 5/5] END .......C=1000, gamma=1, kernel=rbf;, score=0.980 total time=   0.4s\n",
      "[CV 1/5] END .....C=1000, gamma=0.1, kernel=rbf;, score=0.977 total time=   0.4s\n",
      "[CV 2/5] END .....C=1000, gamma=0.1, kernel=rbf;, score=0.967 total time=   0.4s\n",
      "[CV 3/5] END .....C=1000, gamma=0.1, kernel=rbf;, score=0.967 total time=   0.4s\n",
      "[CV 4/5] END .....C=1000, gamma=0.1, kernel=rbf;, score=0.977 total time=   0.4s\n",
      "[CV 5/5] END .....C=1000, gamma=0.1, kernel=rbf;, score=0.971 total time=   0.4s\n",
      "[CV 1/5] END ....C=1000, gamma=0.01, kernel=rbf;, score=0.947 total time=   0.4s\n",
      "[CV 2/5] END ....C=1000, gamma=0.01, kernel=rbf;, score=0.947 total time=   0.4s\n",
      "[CV 3/5] END ....C=1000, gamma=0.01, kernel=rbf;, score=0.933 total time=   0.4s\n",
      "[CV 4/5] END ....C=1000, gamma=0.01, kernel=rbf;, score=0.948 total time=   0.4s\n",
      "[CV 5/5] END ....C=1000, gamma=0.01, kernel=rbf;, score=0.944 total time=   0.4s\n",
      "[CV 1/5] END ...C=1000, gamma=0.001, kernel=rbf;, score=0.946 total time=   0.5s\n",
      "[CV 2/5] END ...C=1000, gamma=0.001, kernel=rbf;, score=0.945 total time=   0.5s\n",
      "[CV 3/5] END ...C=1000, gamma=0.001, kernel=rbf;, score=0.930 total time=   0.5s\n",
      "[CV 4/5] END ...C=1000, gamma=0.001, kernel=rbf;, score=0.945 total time=   0.5s\n",
      "[CV 5/5] END ...C=1000, gamma=0.001, kernel=rbf;, score=0.944 total time=   0.5s\n",
      "[CV 1/5] END ..C=1000, gamma=0.0001, kernel=rbf;, score=0.946 total time=   0.8s\n",
      "[CV 2/5] END ..C=1000, gamma=0.0001, kernel=rbf;, score=0.932 total time=   0.8s\n",
      "[CV 3/5] END ..C=1000, gamma=0.0001, kernel=rbf;, score=0.928 total time=   0.8s\n",
      "[CV 4/5] END ..C=1000, gamma=0.0001, kernel=rbf;, score=0.938 total time=   0.8s\n",
      "[CV 5/5] END ..C=1000, gamma=0.0001, kernel=rbf;, score=0.933 total time=   0.8s\n",
      "Grid search fitted.\n"
     ]
    }
   ],
   "source": [
    "#SVM\n",
    "from sklearn.svm import SVC\n",
    "param_grid = {'C': [0.1, 1, 10, 100, 1000],\n",
    "              'gamma': [1, 0.1, 0.01, 0.001, 0.0001],\n",
    "              'kernel': ['rbf']}\n",
    " \n",
    "gs4 = GridSearchCV(SVC(), param_grid, refit = True, verbose = 3)\n",
    " \n",
    "# fitting the model for grid search\n",
    "print ('Fitting grid search...')\n",
    "gs4.fit(X_train, y_train)\n",
    "print (\"Grid search fitted.\")"
   ]
  },
  {
   "cell_type": "code",
   "execution_count": 61,
   "metadata": {},
   "outputs": [
    {
     "data": {
      "image/png": "[encoded data removed]",
      "text/plain": [
       "<Figure size 432x288 with 1 Axes>"
      ]
     },
     "metadata": {
      "needs_background": "light"
     },
     "output_type": "display_data"
    }
   ],
   "source": [
    "ax = plt.gca()\n",
    "rfc_disp = plot_roc_curve(gs4, X_test, y_test, ax=ax, alpha=0.8)\n",
    "rfc_disp.plot(ax=ax, alpha=0.8)\n",
    "plt.show()"
   ]
  },
  {
   "cell_type": "code",
   "execution_count": 62,
   "metadata": {},
   "outputs": [
    {
     "name": "stdout",
     "output_type": "stream",
     "text": [
      "Best leaf_size: 1\n",
      "Best p: 1\n",
      "Best n_neighbors: 15\n"
     ]
    }
   ],
   "source": [
    "leaf_size = list(range(1,50))\n",
    "n_neighbors = list(range(1,30))\n",
    "p=[1,2]\n",
    "#Convert to dictionary\n",
    "hyperparameters = dict(leaf_size=leaf_size, n_neighbors=n_neighbors, p=p)\n",
    "#Create new KNN object\n",
    "knn_2 = KNeighborsClassifier()\n",
    "#Use GridSearch\n",
    "gs5 = GridSearchCV(knn_2, hyperparameters, cv=5,n_jobs = -1)\n",
    "#Fit the model\n",
    "best_model = gs5.fit(X_train,y_train)\n",
    "\n",
    "print('Best leaf_size:', best_model.best_estimator_.get_params()['leaf_size'])\n",
    "print('Best p:', best_model.best_estimator_.get_params()['p'])\n",
    "print('Best n_neighbors:', best_model.best_estimator_.get_params()['n_neighbors'])\n"
   ]
  },
  {
   "cell_type": "code",
   "execution_count": 63,
   "metadata": {},
   "outputs": [
    {
     "data": {
      "image/png": "[encoded data removed]",
      "text/plain": [
       "<Figure size 432x288 with 1 Axes>"
      ]
     },
     "metadata": {
      "needs_background": "light"
     },
     "output_type": "display_data"
    }
   ],
   "source": [
    "ax = plt.gca()\n",
    "rfc_disp = plot_roc_curve(gs5, X_test, y_test, ax=ax, alpha=0.8)\n",
    "rfc_disp.plot(ax=ax, alpha=0.8)\n",
    "plt.show()"
   ]
  },
  {
   "cell_type": "code",
   "execution_count": 64,
   "metadata": {},
   "outputs": [],
   "source": [
    "clf1 = gs1.best_estimator_\n",
    "clf2 = gs2.best_estimator_\n",
    "clf3 = gs3.best_estimator_\n",
    "clf4 = gs4.best_estimator_\n",
    "clf5 = gs5.best_estimator_"
   ]
  },
  {
   "cell_type": "code",
   "execution_count": 65,
   "metadata": {},
   "outputs": [
    {
     "name": "stdout",
     "output_type": "stream",
     "text": [
      "ROC_AUC Score: 0.946680790960452\n"
     ]
    }
   ],
   "source": [
    "probas =clf3.predict(X_test)\n",
    "\n",
    "# ROC/AUC score\n",
    "print ('ROC_AUC Score:',accuracy_score(y_test, probas))"
   ]
  },
  {
   "cell_type": "code",
   "execution_count": 66,
   "metadata": {},
   "outputs": [],
   "source": [
    "from sklearn.metrics import make_scorer\n",
    "from sklearn.metrics import accuracy_score\n",
    "from sklearn.metrics import precision_score\n",
    "from sklearn.metrics import recall_score\n",
    "from sklearn.metrics import f1_score\n",
    "from sklearn.model_selection import cross_validate\n",
    "\n",
    "# Define dictionary with performance metrics\n",
    "scoring = {'accuracy':make_scorer(accuracy_score), \n",
    "           'precision':make_scorer(precision_score),\n",
    "           'recall':make_scorer(recall_score), \n",
    "           'f1_score':make_scorer(f1_score)}"
   ]
  },
  {
   "cell_type": "code",
   "execution_count": 67,
   "metadata": {},
   "outputs": [
    {
     "data": {
      "text/html": [
       "<div>\n",
       "<style scoped>\n",
       "    .dataframe tbody tr th:only-of-type {\n",
       "        vertical-align: middle;\n",
       "    }\n",
       "\n",
       "    .dataframe tbody tr th {\n",
       "        vertical-align: top;\n",
       "    }\n",
       "\n",
       "    .dataframe thead th {\n",
       "        text-align: right;\n",
       "    }\n",
       "</style>\n",
       "<table border=\"1\" class=\"dataframe\">\n",
       "  <thead>\n",
       "    <tr style=\"text-align: right;\">\n",
       "      <th></th>\n",
       "      <th>AdaBoost</th>\n",
       "      <th>Random Forest</th>\n",
       "      <th>Logistic Regression</th>\n",
       "      <th>Support Vector Machine</th>\n",
       "      <th>K-Nearest Neighbors</th>\n",
       "      <th>Best Score</th>\n",
       "    </tr>\n",
       "  </thead>\n",
       "  <tbody>\n",
       "    <tr>\n",
       "      <th>Accuracy</th>\n",
       "      <td>0.990570</td>\n",
       "      <td>0.993431</td>\n",
       "      <td>0.939287</td>\n",
       "      <td>0.979869</td>\n",
       "      <td>0.969803</td>\n",
       "      <td>Random Forest</td>\n",
       "    </tr>\n",
       "    <tr>\n",
       "      <th>Precision</th>\n",
       "      <td>0.993029</td>\n",
       "      <td>0.993878</td>\n",
       "      <td>0.940009</td>\n",
       "      <td>0.982708</td>\n",
       "      <td>0.974614</td>\n",
       "      <td>Random Forest</td>\n",
       "    </tr>\n",
       "    <tr>\n",
       "      <th>Recall</th>\n",
       "      <td>0.989788</td>\n",
       "      <td>0.994220</td>\n",
       "      <td>0.951060</td>\n",
       "      <td>0.980732</td>\n",
       "      <td>0.970520</td>\n",
       "      <td>Random Forest</td>\n",
       "    </tr>\n",
       "    <tr>\n",
       "      <th>F1 Score</th>\n",
       "      <td>0.991394</td>\n",
       "      <td>0.994033</td>\n",
       "      <td>0.944552</td>\n",
       "      <td>0.981666</td>\n",
       "      <td>0.972416</td>\n",
       "      <td>Random Forest</td>\n",
       "    </tr>\n",
       "  </tbody>\n",
       "</table>\n",
       "</div>"
      ],
      "text/plain": [
       "           AdaBoost  Random Forest  Logistic Regression  \\\n",
       "Accuracy   0.990570       0.993431             0.939287   \n",
       "Precision  0.993029       0.993878             0.940009   \n",
       "Recall     0.989788       0.994220             0.951060   \n",
       "F1 Score   0.991394       0.994033             0.944552   \n",
       "\n",
       "           Support Vector Machine  K-Nearest Neighbors     Best Score  \n",
       "Accuracy                 0.979869             0.969803  Random Forest  \n",
       "Precision                0.982708             0.974614  Random Forest  \n",
       "Recall                   0.980732             0.970520  Random Forest  \n",
       "F1 Score                 0.981666             0.972416  Random Forest  "
      ]
     },
     "execution_count": 67,
     "metadata": {},
     "output_type": "execute_result"
    }
   ],
   "source": [
    "def models_evaluation(X, y, folds):\n",
    "    aB = cross_validate(clf1, X, y, cv=folds, scoring=scoring)\n",
    "    rF = cross_validate(clf2, X, y, cv=folds, scoring=scoring)\n",
    "    lR = cross_validate(clf3, X, y, cv=folds, scoring=scoring)\n",
    "    SVC = cross_validate(clf4, X, y, cv=folds, scoring=scoring)\n",
    "    knn_2 = cross_validate(clf5, X, y, cv=folds, scoring=scoring)\n",
    "    \n",
    "\n",
    "    # Create a data frame with the models performance metrics scores\n",
    "    models_scores_table = pd.DataFrame({'AdaBoost':[aB['test_accuracy'].mean(),\n",
    "                                                               aB['test_precision'].mean(),\n",
    "                                                               aB['test_recall'].mean(),\n",
    "                                                               aB['test_f1_score'].mean()],\n",
    "\n",
    "                                      'Random Forest':[rF['test_accuracy'].mean(),\n",
    "                                                                   rF['test_precision'].mean(),\n",
    "                                                                   rF['test_recall'].mean(),\n",
    "                                                                   rF['test_f1_score'].mean()],\n",
    "\n",
    "                                      'Logistic Regression':[lR['test_accuracy'].mean(),\n",
    "                                                       lR['test_precision'].mean(),\n",
    "                                                       lR['test_recall'].mean(),\n",
    "                                                       lR['test_f1_score'].mean()],\n",
    "                                        \n",
    "                                      'Support Vector Machine':[SVC['test_accuracy'].mean(),\n",
    "                                                       SVC['test_precision'].mean(),\n",
    "                                                       SVC['test_recall'].mean(),\n",
    "                                                       SVC['test_f1_score'].mean()],\n",
    "                                        \n",
    "\n",
    "                                      'K-Nearest Neighbors':[knn_2['test_accuracy'].mean(),\n",
    "                                                       knn_2['test_precision'].mean(),\n",
    "                                                       knn_2['test_recall'].mean(),\n",
    "                                                       knn_2['test_f1_score'].mean()]\n",
    "\n",
    "                                                       \n",
    "                                                       },\n",
    "\n",
    "\n",
    "                                      \n",
    "\n",
    "                                      index=['Accuracy', 'Precision', 'Recall', 'F1 Score'])\n",
    "\n",
    "    # Add 'Best Score' column\n",
    "    models_scores_table['Best Score'] = models_scores_table.idxmax(axis=1)\n",
    "    return(models_scores_table)\n",
    "models_evaluation(x, y, 5)"
   ]
  },
  {
   "cell_type": "code",
   "execution_count": 68,
   "metadata": {},
   "outputs": [],
   "source": [
    "from sklearn.metrics import plot_confusion_matrix\n"
   ]
  },
  {
   "cell_type": "code",
   "execution_count": 69,
   "metadata": {},
   "outputs": [
    {
     "data": {
      "text/plain": [
       "<sklearn.metrics._plot.confusion_matrix.ConfusionMatrixDisplay at 0x23b97f03ee0>"
      ]
     },
     "execution_count": 69,
     "metadata": {},
     "output_type": "execute_result"
    },
    {
     "data": {
      "image/png": "[encoded data removed]",
      "text/plain": [
       "<Figure size 432x288 with 2 Axes>"
      ]
     },
     "metadata": {
      "needs_background": "light"
     },
     "output_type": "display_data"
    }
   ],
   "source": [
    "# Predicting Test Dataset i.e.(Adaboost)\n",
    "predicted1 = clf1.predict(X_test)\n",
    "plot_confusion_matrix(clf1, X_test, y_test)"
   ]
  },
  {
   "cell_type": "code",
   "execution_count": 70,
   "metadata": {},
   "outputs": [
    {
     "data": {
      "text/plain": [
       "<sklearn.metrics._plot.confusion_matrix.ConfusionMatrixDisplay at 0x23b97f89c70>"
      ]
     },
     "execution_count": 70,
     "metadata": {},
     "output_type": "execute_result"
    },
    {
     "data": {
      "image/png": "[encoded data removed]",
      "text/plain": [
       "<Figure size 432x288 with 2 Axes>"
      ]
     },
     "metadata": {
      "needs_background": "light"
     },
     "output_type": "display_data"
    }
   ],
   "source": [
    "# Test Predictions for classifier 2 i.e. (Random Forest) \n",
    "predicted2 = clf2.predict(X_test)\n",
    "plot_confusion_matrix(clf2, X_test, y_test)"
   ]
  },
  {
   "cell_type": "code",
   "execution_count": 71,
   "metadata": {},
   "outputs": [
    {
     "data": {
      "text/plain": [
       "<sklearn.metrics._plot.confusion_matrix.ConfusionMatrixDisplay at 0x23b97f03d60>"
      ]
     },
     "execution_count": 71,
     "metadata": {},
     "output_type": "execute_result"
    },
    {
     "data": {
      "image/png": "[encoded data removed]",
      "text/plain": [
       "<Figure size 432x288 with 2 Axes>"
      ]
     },
     "metadata": {
      "needs_background": "light"
     },
     "output_type": "display_data"
    }
   ],
   "source": [
    "# Test Predictions for classifier 3 i.e. (Logistic Regression) \n",
    "predicted3 = clf3.predict(X_test)\n",
    "plot_confusion_matrix(clf3, X_test, y_test)"
   ]
  },
  {
   "cell_type": "code",
   "execution_count": 72,
   "metadata": {},
   "outputs": [
    {
     "data": {
      "text/plain": [
       "<sklearn.metrics._plot.confusion_matrix.ConfusionMatrixDisplay at 0x23b9bd41c40>"
      ]
     },
     "execution_count": 72,
     "metadata": {},
     "output_type": "execute_result"
    },
    {
     "data": {
      "image/png": "[encoded data removed]",
      "text/plain": [
       "<Figure size 432x288 with 2 Axes>"
      ]
     },
     "metadata": {
      "needs_background": "light"
     },
     "output_type": "display_data"
    }
   ],
   "source": [
    "# Test Predictions for classifier 4 i.e. (SVM)\n",
    "predicted4 = clf4.predict(X_test)\n",
    "plot_confusion_matrix(clf4, X_test, y_test)"
   ]
  },
  {
   "cell_type": "code",
   "execution_count": 73,
   "metadata": {},
   "outputs": [
    {
     "data": {
      "text/plain": [
       "<sklearn.metrics._plot.confusion_matrix.ConfusionMatrixDisplay at 0x23ba38bbe20>"
      ]
     },
     "execution_count": 73,
     "metadata": {},
     "output_type": "execute_result"
    },
    {
     "data": {
      "image/png": "[encoded data removed]",
      "text/plain": [
       "<Figure size 432x288 with 2 Axes>"
      ]
     },
     "metadata": {
      "needs_background": "light"
     },
     "output_type": "display_data"
    }
   ],
   "source": [
    "# Test Predictions for classifier 5 i.e. (KNN)\n",
    "predicted5 = clf5.predict(X_test)\n",
    "plot_confusion_matrix(clf5, X_test, y_test)"
   ]
  },
  {
   "cell_type": "code",
   "execution_count": 74,
   "metadata": {},
   "outputs": [
    {
     "data": {
      "text/plain": [
       "<sklearn.metrics._plot.roc_curve.RocCurveDisplay at 0x23b97f9adf0>"
      ]
     },
     "execution_count": 74,
     "metadata": {},
     "output_type": "execute_result"
    },
    {
     "data": {
      "image/png": "[encoded data removed]",
      "text/plain": [
       "<Figure size 432x288 with 1 Axes>"
      ]
     },
     "metadata": {
      "needs_background": "light"
     },
     "output_type": "display_data"
    }
   ],
   "source": [
    "disp=plot_roc_curve(clf1, X_test,y_test)\n",
    "plot_roc_curve(clf2, X_test,y_test,ax=disp.ax_)\n",
    "plot_roc_curve(clf3, X_test,y_test,ax=disp.ax_)\n",
    "plot_roc_curve(clf4, X_test,y_test,ax=disp.ax_)\n",
    "plot_roc_curve(clf5, X_test,y_test,ax=disp.ax_)\n"
   ]
  },
  {
   "cell_type": "code",
   "execution_count": null,
   "metadata": {},
   "outputs": [],
   "source": []
  }
 ],
 "metadata": {
  "kernelspec": {
   "display_name": "Python 3.9.7 ('base')",
   "language": "python",
   "name": "python3"
  },
  "language_info": {
   "codemirror_mode": {
    "name": "ipython",
    "version": 3
   },
   "file_extension": ".py",
   "mimetype": "text/x-python",
   "name": "python",
   "nbconvert_exporter": "python",
   "pygments_lexer": "ipython3",
   "version": "3.9.7"
  },
  "vscode": {
   "interpreter": {
    "hash": "e0165309149fe6ef66067a5368a49bd6bca81c7178c71cd581f392ce4a88f942"
   }
  }
 },
 "nbformat": 4,
 "nbformat_minor": 4
}
